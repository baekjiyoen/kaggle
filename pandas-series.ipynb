{
 "cells": [
  {
   "cell_type": "code",
   "execution_count": 1,
   "id": "3c747e9e",
   "metadata": {
    "_cell_guid": "b1076dfc-b9ad-4769-8c92-a6c4dae69d19",
    "_uuid": "8f2839f25d086af736a60e9eeb907d3b93b6e0e5",
    "execution": {
     "iopub.execute_input": "2024-10-22T02:47:29.153803Z",
     "iopub.status.busy": "2024-10-22T02:47:29.152578Z",
     "iopub.status.idle": "2024-10-22T02:47:30.127363Z",
     "shell.execute_reply": "2024-10-22T02:47:30.126129Z"
    },
    "papermill": {
     "duration": 0.987069,
     "end_time": "2024-10-22T02:47:30.130343",
     "exception": false,
     "start_time": "2024-10-22T02:47:29.143274",
     "status": "completed"
    },
    "tags": []
   },
   "outputs": [],
   "source": [
    "# This Python 3 environment comes with many helpful analytics libraries installed\n",
    "# It is defined by the kaggle/python Docker image: https://github.com/kaggle/docker-python\n",
    "# For example, here's several helpful packages to load\n",
    "\n",
    "import numpy as np # linear algebra\n",
    "import pandas as pd # data processing, CSV file I/O (e.g. pd.read_csv)\n",
    "\n",
    "# Input data files are available in the read-only \"../input/\" directory\n",
    "# For example, running this (by clicking run or pressing Shift+Enter) will list all files under the input directory\n",
    "\n",
    "import os\n",
    "for dirname, _, filenames in os.walk('/kaggle/input'):\n",
    "    for filename in filenames:\n",
    "        print(os.path.join(dirname, filename))\n",
    "\n",
    "# You can write up to 20GB to the current directory (/kaggle/working/) that gets preserved as output when you create a version using \"Save & Run All\" \n",
    "# You can also write temporary files to /kaggle/temp/, but they won't be saved outside of the current session"
   ]
  },
  {
   "cell_type": "code",
   "execution_count": 2,
   "id": "2a772c3b",
   "metadata": {
    "execution": {
     "iopub.execute_input": "2024-10-22T02:47:30.146474Z",
     "iopub.status.busy": "2024-10-22T02:47:30.145851Z",
     "iopub.status.idle": "2024-10-22T02:47:30.160324Z",
     "shell.execute_reply": "2024-10-22T02:47:30.158567Z"
    },
    "papermill": {
     "duration": 0.025813,
     "end_time": "2024-10-22T02:47:30.163308",
     "exception": false,
     "start_time": "2024-10-22T02:47:30.137495",
     "status": "completed"
    },
    "tags": []
   },
   "outputs": [
    {
     "data": {
      "text/plain": [
       "0     3.0\n",
       "1     5.0\n",
       "2     7.0\n",
       "3     9.0\n",
       "4    11.0\n",
       "dtype: float32"
      ]
     },
     "execution_count": 2,
     "metadata": {},
     "output_type": "execute_result"
    }
   ],
   "source": [
    "# 다음의 Series를 생성하세요.\n",
    "# dtype은 float32가 되도록 생성하세요\n",
    "\n",
    "pd.Series(np.arange(3,12,2),dtype='float32')"
   ]
  },
  {
   "cell_type": "code",
   "execution_count": 3,
   "id": "9a26eb31",
   "metadata": {
    "execution": {
     "iopub.execute_input": "2024-10-22T02:47:30.179418Z",
     "iopub.status.busy": "2024-10-22T02:47:30.178931Z",
     "iopub.status.idle": "2024-10-22T02:47:30.190405Z",
     "shell.execute_reply": "2024-10-22T02:47:30.188909Z"
    },
    "papermill": {
     "duration": 0.022694,
     "end_time": "2024-10-22T02:47:30.193317",
     "exception": false,
     "start_time": "2024-10-22T02:47:30.170623",
     "status": "completed"
    },
    "tags": []
   },
   "outputs": [
    {
     "data": {
      "text/plain": [
       "0    가\n",
       "1    나\n",
       "2    다\n",
       "3    라\n",
       "4    마\n",
       "dtype: object"
      ]
     },
     "execution_count": 3,
     "metadata": {},
     "output_type": "execute_result"
    }
   ],
   "source": [
    "pd.Series(list('가나다라마'))"
   ]
  },
  {
   "cell_type": "code",
   "execution_count": 4,
   "id": "2e579f47",
   "metadata": {
    "execution": {
     "iopub.execute_input": "2024-10-22T02:47:30.209927Z",
     "iopub.status.busy": "2024-10-22T02:47:30.209453Z",
     "iopub.status.idle": "2024-10-22T02:47:30.225274Z",
     "shell.execute_reply": "2024-10-22T02:47:30.223614Z"
    },
    "papermill": {
     "duration": 0.027755,
     "end_time": "2024-10-22T02:47:30.228412",
     "exception": false,
     "start_time": "2024-10-22T02:47:30.200657",
     "status": "completed"
    },
    "tags": []
   },
   "outputs": [
    {
     "data": {
      "text/plain": [
       "가    10\n",
       "나    20\n",
       "다    30\n",
       "라    40\n",
       "마    50\n",
       "dtype: int64"
      ]
     },
     "execution_count": 4,
     "metadata": {},
     "output_type": "execute_result"
    }
   ],
   "source": [
    "# 다음의 Series를 생성하고 sample 변수에 대입하고 출력하세요\n",
    "sample=pd.Series(np.arange(10,60,10), index=list('가나다라마'))\n",
    "sample"
   ]
  },
  {
   "cell_type": "code",
   "execution_count": 5,
   "id": "71ecd4e5",
   "metadata": {
    "execution": {
     "iopub.execute_input": "2024-10-22T02:47:30.246310Z",
     "iopub.status.busy": "2024-10-22T02:47:30.245818Z",
     "iopub.status.idle": "2024-10-22T02:47:30.260696Z",
     "shell.execute_reply": "2024-10-22T02:47:30.259326Z"
    },
    "papermill": {
     "duration": 0.027012,
     "end_time": "2024-10-22T02:47:30.263473",
     "exception": false,
     "start_time": "2024-10-22T02:47:30.236461",
     "status": "completed"
    },
    "tags": []
   },
   "outputs": [
    {
     "data": {
      "text/plain": [
       "나    20\n",
       "라    40\n",
       "dtype: int64"
      ]
     },
     "execution_count": 5,
     "metadata": {},
     "output_type": "execute_result"
    }
   ],
   "source": [
    "sample[['나','라']]"
   ]
  },
  {
   "cell_type": "code",
   "execution_count": 6,
   "id": "b36dafe9",
   "metadata": {
    "execution": {
     "iopub.execute_input": "2024-10-22T02:47:30.280192Z",
     "iopub.status.busy": "2024-10-22T02:47:30.279688Z",
     "iopub.status.idle": "2024-10-22T02:47:30.290104Z",
     "shell.execute_reply": "2024-10-22T02:47:30.288927Z"
    },
    "papermill": {
     "duration": 0.021969,
     "end_time": "2024-10-22T02:47:30.292880",
     "exception": false,
     "start_time": "2024-10-22T02:47:30.270911",
     "status": "completed"
    },
    "tags": []
   },
   "outputs": [
    {
     "data": {
      "text/plain": [
       "0     199\n",
       "1     190\n",
       "2     115\n",
       "3     195\n",
       "4     128\n",
       "5     190\n",
       "6     109\n",
       "7     120\n",
       "8     175\n",
       "9     122\n",
       "10    171\n",
       "11    134\n",
       "12    196\n",
       "13    140\n",
       "14    185\n",
       "dtype: int64"
      ]
     },
     "execution_count": 6,
     "metadata": {},
     "output_type": "execute_result"
    }
   ],
   "source": [
    "np.random.seed(20)\n",
    "sample2 = pd.Series(np.random.randint(100, 200, size=(15,)))\n",
    "sample2"
   ]
  },
  {
   "cell_type": "code",
   "execution_count": 7,
   "id": "1981e4f6",
   "metadata": {
    "execution": {
     "iopub.execute_input": "2024-10-22T02:47:30.311496Z",
     "iopub.status.busy": "2024-10-22T02:47:30.311017Z",
     "iopub.status.idle": "2024-10-22T02:47:30.320474Z",
     "shell.execute_reply": "2024-10-22T02:47:30.319266Z"
    },
    "papermill": {
     "duration": 0.021564,
     "end_time": "2024-10-22T02:47:30.323146",
     "exception": false,
     "start_time": "2024-10-22T02:47:30.301582",
     "status": "completed"
    },
    "tags": []
   },
   "outputs": [
    {
     "data": {
      "text/plain": [
       "2     115\n",
       "4     128\n",
       "6     109\n",
       "7     120\n",
       "9     122\n",
       "11    134\n",
       "13    140\n",
       "dtype: int64"
      ]
     },
     "execution_count": 7,
     "metadata": {},
     "output_type": "execute_result"
    }
   ],
   "source": [
    "# sample2 중 160 이하인 데이터만 필터하세요\n",
    "sample2[sample2<=160]"
   ]
  },
  {
   "cell_type": "code",
   "execution_count": 8,
   "id": "504e1947",
   "metadata": {
    "execution": {
     "iopub.execute_input": "2024-10-22T02:47:30.341813Z",
     "iopub.status.busy": "2024-10-22T02:47:30.340934Z",
     "iopub.status.idle": "2024-10-22T02:47:30.350960Z",
     "shell.execute_reply": "2024-10-22T02:47:30.349798Z"
    },
    "papermill": {
     "duration": 0.022669,
     "end_time": "2024-10-22T02:47:30.353624",
     "exception": false,
     "start_time": "2024-10-22T02:47:30.330955",
     "status": "completed"
    },
    "tags": []
   },
   "outputs": [
    {
     "data": {
      "text/plain": [
       "11    134\n",
       "13    140\n",
       "dtype: int64"
      ]
     },
     "execution_count": 8,
     "metadata": {},
     "output_type": "execute_result"
    }
   ],
   "source": [
    "# sample2 중 130 이상 170 이하인 데이터만 필터하세요\n",
    "sample2[(sample2 >= 130) & (sample2 <=170)]"
   ]
  },
  {
   "cell_type": "code",
   "execution_count": 9,
   "id": "c0fbf519",
   "metadata": {
    "execution": {
     "iopub.execute_input": "2024-10-22T02:47:30.372196Z",
     "iopub.status.busy": "2024-10-22T02:47:30.371741Z",
     "iopub.status.idle": "2024-10-22T02:47:30.382235Z",
     "shell.execute_reply": "2024-10-22T02:47:30.380900Z"
    },
    "papermill": {
     "duration": 0.023026,
     "end_time": "2024-10-22T02:47:30.384887",
     "exception": false,
     "start_time": "2024-10-22T02:47:30.361861",
     "status": "completed"
    },
    "tags": []
   },
   "outputs": [
    {
     "data": {
      "text/plain": [
       "가     apple\n",
       "나       NaN\n",
       "다    banana\n",
       "라      kiwi\n",
       "마    gubong\n",
       "dtype: object"
      ]
     },
     "execution_count": 9,
     "metadata": {},
     "output_type": "execute_result"
    }
   ],
   "source": [
    "pd.Series(['apple',np.NaN,'banana','kiwi','gubong'], index=list('가나다라마'))"
   ]
  },
  {
   "cell_type": "code",
   "execution_count": 10,
   "id": "f7a8694b",
   "metadata": {
    "execution": {
     "iopub.execute_input": "2024-10-22T02:47:30.404348Z",
     "iopub.status.busy": "2024-10-22T02:47:30.403850Z",
     "iopub.status.idle": "2024-10-22T02:47:30.414268Z",
     "shell.execute_reply": "2024-10-22T02:47:30.412982Z"
    },
    "papermill": {
     "duration": 0.023562,
     "end_time": "2024-10-22T02:47:30.416947",
     "exception": false,
     "start_time": "2024-10-22T02:47:30.393385",
     "status": "completed"
    },
    "tags": []
   },
   "outputs": [
    {
     "data": {
      "text/plain": [
       "0    IT서비스\n",
       "1      NaN\n",
       "2      반도체\n",
       "3      NaN\n",
       "4      바이오\n",
       "5     자율주행\n",
       "dtype: object"
      ]
     },
     "execution_count": 10,
     "metadata": {},
     "output_type": "execute_result"
    }
   ],
   "source": [
    "sample= pd.Series(['IT서비스',np.nan,'반도체',np.nan,'바이오','자율주행'])\n",
    "sample"
   ]
  },
  {
   "cell_type": "code",
   "execution_count": 11,
   "id": "fa37ae8c",
   "metadata": {
    "execution": {
     "iopub.execute_input": "2024-10-22T02:47:30.436186Z",
     "iopub.status.busy": "2024-10-22T02:47:30.435682Z",
     "iopub.status.idle": "2024-10-22T02:47:30.445184Z",
     "shell.execute_reply": "2024-10-22T02:47:30.443818Z"
    },
    "papermill": {
     "duration": 0.022647,
     "end_time": "2024-10-22T02:47:30.448074",
     "exception": false,
     "start_time": "2024-10-22T02:47:30.425427",
     "status": "completed"
    },
    "tags": []
   },
   "outputs": [
    {
     "data": {
      "text/plain": [
       "1    NaN\n",
       "3    NaN\n",
       "dtype: object"
      ]
     },
     "execution_count": 11,
     "metadata": {},
     "output_type": "execute_result"
    }
   ],
   "source": [
    "# sample 중 결측치 데이터만 필터하세요\n",
    "sample[sample.isnull()]"
   ]
  },
  {
   "cell_type": "code",
   "execution_count": 12,
   "id": "294020d9",
   "metadata": {
    "execution": {
     "iopub.execute_input": "2024-10-22T02:47:30.467232Z",
     "iopub.status.busy": "2024-10-22T02:47:30.466230Z",
     "iopub.status.idle": "2024-10-22T02:47:30.475850Z",
     "shell.execute_reply": "2024-10-22T02:47:30.474655Z"
    },
    "papermill": {
     "duration": 0.021886,
     "end_time": "2024-10-22T02:47:30.478372",
     "exception": false,
     "start_time": "2024-10-22T02:47:30.456486",
     "status": "completed"
    },
    "tags": []
   },
   "outputs": [
    {
     "data": {
      "text/plain": [
       "0    IT서비스\n",
       "2      반도체\n",
       "4      바이오\n",
       "5     자율주행\n",
       "dtype: object"
      ]
     },
     "execution_count": 12,
     "metadata": {},
     "output_type": "execute_result"
    }
   ],
   "source": [
    "# sample중 결측치가 아닌 데이터만 필터하세요\n",
    "sample[sample.notnull()]"
   ]
  },
  {
   "cell_type": "code",
   "execution_count": 13,
   "id": "aa9babc4",
   "metadata": {
    "execution": {
     "iopub.execute_input": "2024-10-22T02:47:30.497888Z",
     "iopub.status.busy": "2024-10-22T02:47:30.496937Z",
     "iopub.status.idle": "2024-10-22T02:47:30.506822Z",
     "shell.execute_reply": "2024-10-22T02:47:30.505610Z"
    },
    "papermill": {
     "duration": 0.022436,
     "end_time": "2024-10-22T02:47:30.509379",
     "exception": false,
     "start_time": "2024-10-22T02:47:30.486943",
     "status": "completed"
    },
    "tags": []
   },
   "outputs": [
    {
     "data": {
      "text/plain": [
       "0    144\n",
       "1    147\n",
       "2    164\n",
       "3    167\n",
       "4    167\n",
       "5    109\n",
       "6    183\n",
       "7    121\n",
       "8    136\n",
       "9    187\n",
       "dtype: int64"
      ]
     },
     "execution_count": 13,
     "metadata": {},
     "output_type": "execute_result"
    }
   ],
   "source": [
    "np.random.seed(0)\n",
    "sample= pd.Series(np.random.randint(100,200,size=(10,)))\n",
    "sample"
   ]
  },
  {
   "cell_type": "code",
   "execution_count": 14,
   "id": "3881349a",
   "metadata": {
    "execution": {
     "iopub.execute_input": "2024-10-22T02:47:30.529921Z",
     "iopub.status.busy": "2024-10-22T02:47:30.529451Z",
     "iopub.status.idle": "2024-10-22T02:47:30.538250Z",
     "shell.execute_reply": "2024-10-22T02:47:30.537016Z"
    },
    "papermill": {
     "duration": 0.022789,
     "end_time": "2024-10-22T02:47:30.541148",
     "exception": false,
     "start_time": "2024-10-22T02:47:30.518359",
     "status": "completed"
    },
    "tags": []
   },
   "outputs": [
    {
     "data": {
      "text/plain": [
       "2    164\n",
       "3    167\n",
       "4    167\n",
       "5    109\n",
       "6    183\n",
       "dtype: int64"
      ]
     },
     "execution_count": 14,
     "metadata": {},
     "output_type": "execute_result"
    }
   ],
   "source": [
    "sample[2:7]"
   ]
  },
  {
   "cell_type": "code",
   "execution_count": 15,
   "id": "d36fc784",
   "metadata": {
    "execution": {
     "iopub.execute_input": "2024-10-22T02:47:30.560809Z",
     "iopub.status.busy": "2024-10-22T02:47:30.560397Z",
     "iopub.status.idle": "2024-10-22T02:47:30.570692Z",
     "shell.execute_reply": "2024-10-22T02:47:30.569432Z"
    },
    "papermill": {
     "duration": 0.023256,
     "end_time": "2024-10-22T02:47:30.573436",
     "exception": false,
     "start_time": "2024-10-22T02:47:30.550180",
     "status": "completed"
    },
    "tags": []
   },
   "outputs": [
    {
     "data": {
      "text/plain": [
       "가    144\n",
       "나    147\n",
       "다    164\n",
       "라    167\n",
       "마    167\n",
       "바    109\n",
       "사    183\n",
       "아    121\n",
       "자    136\n",
       "차    187\n",
       "dtype: int64"
      ]
     },
     "execution_count": 15,
     "metadata": {},
     "output_type": "execute_result"
    }
   ],
   "source": [
    "np.random.seed(0)\n",
    "sample2= pd.Series(np.random.randint(100,200,size=(10,)), index=list('가나다라마바사아자차'))\n",
    "sample2"
   ]
  },
  {
   "cell_type": "code",
   "execution_count": 16,
   "id": "b70169ed",
   "metadata": {
    "execution": {
     "iopub.execute_input": "2024-10-22T02:47:30.593587Z",
     "iopub.status.busy": "2024-10-22T02:47:30.593151Z",
     "iopub.status.idle": "2024-10-22T02:47:30.605350Z",
     "shell.execute_reply": "2024-10-22T02:47:30.604154Z"
    },
    "papermill": {
     "duration": 0.025753,
     "end_time": "2024-10-22T02:47:30.608198",
     "exception": false,
     "start_time": "2024-10-22T02:47:30.582445",
     "status": "completed"
    },
    "tags": []
   },
   "outputs": [
    {
     "data": {
      "text/plain": [
       "바    109\n",
       "사    183\n",
       "아    121\n",
       "자    136\n",
       "차    187\n",
       "dtype: int64"
      ]
     },
     "execution_count": 16,
     "metadata": {},
     "output_type": "execute_result"
    }
   ],
   "source": [
    "sample2['바':'차']"
   ]
  },
  {
   "cell_type": "code",
   "execution_count": 17,
   "id": "6cd946ff",
   "metadata": {
    "execution": {
     "iopub.execute_input": "2024-10-22T02:47:30.628939Z",
     "iopub.status.busy": "2024-10-22T02:47:30.628519Z",
     "iopub.status.idle": "2024-10-22T02:47:30.638434Z",
     "shell.execute_reply": "2024-10-22T02:47:30.636801Z"
    },
    "papermill": {
     "duration": 0.023277,
     "end_time": "2024-10-22T02:47:30.641179",
     "exception": false,
     "start_time": "2024-10-22T02:47:30.617902",
     "status": "completed"
    },
    "tags": []
   },
   "outputs": [
    {
     "data": {
      "text/plain": [
       "가    144\n",
       "나    147\n",
       "다    164\n",
       "dtype: int64"
      ]
     },
     "execution_count": 17,
     "metadata": {},
     "output_type": "execute_result"
    }
   ],
   "source": [
    "sample2[:'다']"
   ]
  },
  {
   "cell_type": "code",
   "execution_count": 18,
   "id": "b58391c8",
   "metadata": {
    "execution": {
     "iopub.execute_input": "2024-10-22T02:47:30.661680Z",
     "iopub.status.busy": "2024-10-22T02:47:30.661179Z",
     "iopub.status.idle": "2024-10-22T02:47:30.670872Z",
     "shell.execute_reply": "2024-10-22T02:47:30.669611Z"
    },
    "papermill": {
     "duration": 0.02314,
     "end_time": "2024-10-22T02:47:30.673617",
     "exception": false,
     "start_time": "2024-10-22T02:47:30.650477",
     "status": "completed"
    },
    "tags": []
   },
   "outputs": [
    {
     "data": {
      "text/plain": [
       "나    147\n",
       "다    164\n",
       "라    167\n",
       "마    167\n",
       "바    109\n",
       "dtype: int64"
      ]
     },
     "execution_count": 18,
     "metadata": {},
     "output_type": "execute_result"
    }
   ],
   "source": [
    "sample2['나':'바']"
   ]
  },
  {
   "cell_type": "code",
   "execution_count": null,
   "id": "a14f92d8",
   "metadata": {
    "papermill": {
     "duration": 0.009562,
     "end_time": "2024-10-22T02:47:30.692714",
     "exception": false,
     "start_time": "2024-10-22T02:47:30.683152",
     "status": "completed"
    },
    "tags": []
   },
   "outputs": [],
   "source": []
  }
 ],
 "metadata": {
  "kaggle": {
   "accelerator": "none",
   "dataSources": [],
   "dockerImageVersionId": 30786,
   "isGpuEnabled": false,
   "isInternetEnabled": false,
   "language": "python",
   "sourceType": "notebook"
  },
  "kernelspec": {
   "display_name": "Python 3",
   "language": "python",
   "name": "python3"
  },
  "language_info": {
   "codemirror_mode": {
    "name": "ipython",
    "version": 3
   },
   "file_extension": ".py",
   "mimetype": "text/x-python",
   "name": "python",
   "nbconvert_exporter": "python",
   "pygments_lexer": "ipython3",
   "version": "3.10.14"
  },
  "papermill": {
   "default_parameters": {},
   "duration": 5.237793,
   "end_time": "2024-10-22T02:47:31.224061",
   "environment_variables": {},
   "exception": null,
   "input_path": "__notebook__.ipynb",
   "output_path": "__notebook__.ipynb",
   "parameters": {},
   "start_time": "2024-10-22T02:47:25.986268",
   "version": "2.6.0"
  }
 },
 "nbformat": 4,
 "nbformat_minor": 5
}
