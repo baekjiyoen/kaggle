{
 "cells": [
  {
   "cell_type": "code",
   "execution_count": 1,
   "id": "78617968",
   "metadata": {
    "_cell_guid": "b1076dfc-b9ad-4769-8c92-a6c4dae69d19",
    "_uuid": "8f2839f25d086af736a60e9eeb907d3b93b6e0e5",
    "execution": {
     "iopub.execute_input": "2024-10-29T02:07:10.436041Z",
     "iopub.status.busy": "2024-10-29T02:07:10.435524Z",
     "iopub.status.idle": "2024-10-29T02:07:11.408612Z",
     "shell.execute_reply": "2024-10-29T02:07:11.407572Z"
    },
    "papermill": {
     "duration": 0.980952,
     "end_time": "2024-10-29T02:07:11.411186",
     "exception": false,
     "start_time": "2024-10-29T02:07:10.430234",
     "status": "completed"
    },
    "tags": []
   },
   "outputs": [],
   "source": [
    "# This Python 3 environment comes with many helpful analytics libraries installed\n",
    "# It is defined by the kaggle/python Docker image: https://github.com/kaggle/docker-python\n",
    "# For example, here's several helpful packages to load\n",
    "\n",
    "import numpy as np # linear algebra\n",
    "import pandas as pd # data processing, CSV file I/O (e.g. pd.read_csv)\n",
    "# Input data files are available in the read-only \"../input/\" directory\n",
    "# For example, running this (by clicking run or pressing Shift+Enter) will list all files under the input directory\n",
    "\n",
    "import os\n",
    "for dirname, _, filenames in os.walk('/kaggle/input'):\n",
    "    for filename in filenames:\n",
    "        print(os.path.join(dirname, filename))\n",
    "\n",
    "# You can write up to 20GB to the current directory (/kaggle/working/) that gets preserved as output when you create a version using \"Save & Run All\" \n",
    "# You can also write temporary files to /kaggle/temp/, but they won't be saved outside of the current session"
   ]
  },
  {
   "cell_type": "code",
   "execution_count": 2,
   "id": "f78695e3",
   "metadata": {
    "execution": {
     "iopub.execute_input": "2024-10-29T02:07:11.420004Z",
     "iopub.status.busy": "2024-10-29T02:07:11.419008Z",
     "iopub.status.idle": "2024-10-29T02:07:25.276502Z",
     "shell.execute_reply": "2024-10-29T02:07:25.275142Z"
    },
    "papermill": {
     "duration": 13.864395,
     "end_time": "2024-10-29T02:07:25.279113",
     "exception": false,
     "start_time": "2024-10-29T02:07:11.414718",
     "status": "completed"
    },
    "tags": []
   },
   "outputs": [
    {
     "name": "stdout",
     "output_type": "stream",
     "text": [
      "Collecting konlpy\r\n",
      "  Downloading konlpy-0.6.0-py2.py3-none-any.whl.metadata (1.9 kB)\r\n",
      "Collecting JPype1>=0.7.0 (from konlpy)\r\n",
      "  Downloading JPype1-1.5.0-cp310-cp310-manylinux_2_17_x86_64.manylinux2014_x86_64.whl.metadata (4.9 kB)\r\n",
      "Requirement already satisfied: lxml>=4.1.0 in /opt/conda/lib/python3.10/site-packages (from konlpy) (5.3.0)\r\n",
      "Requirement already satisfied: numpy>=1.6 in /opt/conda/lib/python3.10/site-packages (from konlpy) (1.26.4)\r\n",
      "Requirement already satisfied: packaging in /opt/conda/lib/python3.10/site-packages (from JPype1>=0.7.0->konlpy) (21.3)\r\n",
      "Requirement already satisfied: pyparsing!=3.0.5,>=2.0.2 in /opt/conda/lib/python3.10/site-packages (from packaging->JPype1>=0.7.0->konlpy) (3.1.2)\r\n",
      "Downloading konlpy-0.6.0-py2.py3-none-any.whl (19.4 MB)\r\n",
      "\u001b[2K   \u001b[90m━━━━━━━━━━━━━━━━━━━━━━━━━━━━━━━━━━━━━━━━\u001b[0m \u001b[32m19.4/19.4 MB\u001b[0m \u001b[31m67.8 MB/s\u001b[0m eta \u001b[36m0:00:00\u001b[0m\r\n",
      "\u001b[?25hDownloading JPype1-1.5.0-cp310-cp310-manylinux_2_17_x86_64.manylinux2014_x86_64.whl (488 kB)\r\n",
      "\u001b[2K   \u001b[90m━━━━━━━━━━━━━━━━━━━━━━━━━━━━━━━━━━━━━━━━\u001b[0m \u001b[32m488.6/488.6 kB\u001b[0m \u001b[31m23.4 MB/s\u001b[0m eta \u001b[36m0:00:00\u001b[0m\r\n",
      "\u001b[?25hInstalling collected packages: JPype1, konlpy\r\n",
      "Successfully installed JPype1-1.5.0 konlpy-0.6.0\r\n"
     ]
    }
   ],
   "source": [
    "!pip install konlpy"
   ]
  },
  {
   "cell_type": "markdown",
   "id": "9fb9ac15",
   "metadata": {
    "papermill": {
     "duration": 0.00367,
     "end_time": "2024-10-29T02:07:25.286974",
     "exception": false,
     "start_time": "2024-10-29T02:07:25.283304",
     "status": "completed"
    },
    "tags": []
   },
   "source": [
    "bag_of_words\n",
    "문서1 : 정부가 발표하는 물가상승률과 소비자가 느끼는 물가상승률은 다르다.\n",
    "bow를 만들어 vocaburary를 만들어 각 단어에 정수 인덱스 할당하"
   ]
  },
  {
   "cell_type": "code",
   "execution_count": 3,
   "id": "14180594",
   "metadata": {
    "execution": {
     "iopub.execute_input": "2024-10-29T02:07:25.296930Z",
     "iopub.status.busy": "2024-10-29T02:07:25.296501Z",
     "iopub.status.idle": "2024-10-29T02:07:26.447073Z",
     "shell.execute_reply": "2024-10-29T02:07:26.445785Z"
    },
    "papermill": {
     "duration": 1.158651,
     "end_time": "2024-10-29T02:07:26.449643",
     "exception": false,
     "start_time": "2024-10-29T02:07:25.290992",
     "status": "completed"
    },
    "tags": []
   },
   "outputs": [],
   "source": [
    "from konlpy.tag import Okt\n",
    "\n",
    "okt = Okt()\n",
    "\n",
    "def build_bag_of_words(document):\n",
    "  # 온점 제거 및 형태소 분석\n",
    "  document = document.replace('.', '')\n",
    "  tokenized_document = okt.morphs(document)\n",
    "\n",
    "  word_to_index = {}\n",
    "  bow = []\n",
    "\n",
    "  for word in tokenized_document:  \n",
    "    if word not in word_to_index.keys():\n",
    "          word_to_index[word] = len(word_to_index)  \n",
    "          # BoW에 전부 기본값 1을 넣는다.\n",
    "          bow.insert(len(word_to_index) - 1, 1)\n",
    "    else:\n",
    "          # 재등장하는 단어의 인덱스\n",
    "          index = word_to_index.get(word)\n",
    "          # 재등장한 단어는 해당하는 인덱스의 위치에 1을 더한다.\n",
    "          bow[index] = bow[index] + 1\n",
    "\n",
    "  return word_to_index, bow"
   ]
  },
  {
   "cell_type": "markdown",
   "id": "242cb096",
   "metadata": {
    "papermill": {
     "duration": 0.003804,
     "end_time": "2024-10-29T02:07:26.457617",
     "exception": false,
     "start_time": "2024-10-29T02:07:26.453813",
     "status": "completed"
    },
    "tags": []
   },
   "source": [
    "문서1 입력"
   ]
  },
  {
   "cell_type": "code",
   "execution_count": 4,
   "id": "9d1ea9b3",
   "metadata": {
    "execution": {
     "iopub.execute_input": "2024-10-29T02:07:26.467646Z",
     "iopub.status.busy": "2024-10-29T02:07:26.466820Z",
     "iopub.status.idle": "2024-10-29T02:07:32.064417Z",
     "shell.execute_reply": "2024-10-29T02:07:32.062936Z"
    },
    "papermill": {
     "duration": 5.605233,
     "end_time": "2024-10-29T02:07:32.066847",
     "exception": false,
     "start_time": "2024-10-29T02:07:26.461614",
     "status": "completed"
    },
    "tags": []
   },
   "outputs": [
    {
     "name": "stdout",
     "output_type": "stream",
     "text": [
      "vocabulary : {'정부': 0, '가': 1, '발표': 2, '하는': 3, '물가상승률': 4, '과': 5, '소비자': 6, '느끼는': 7, '은': 8, '다르다': 9}\n",
      "bag of words vector : [1, 2, 1, 1, 2, 1, 1, 1, 1, 1]\n"
     ]
    }
   ],
   "source": [
    "doc1 = \"정부가 발표하는 물가상승률과 소비자가 느끼는 물가상승률은 다르다.\"\n",
    "vocab, bow = build_bag_of_words(doc1)\n",
    "print('vocabulary :', vocab)\n",
    "print('bag of words vector :', bow)"
   ]
  },
  {
   "cell_type": "markdown",
   "id": "f098a751",
   "metadata": {
    "papermill": {
     "duration": 0.004026,
     "end_time": "2024-10-29T02:07:32.075253",
     "exception": false,
     "start_time": "2024-10-29T02:07:32.071227",
     "status": "completed"
    },
    "tags": []
   },
   "source": [
    "문서2: 소비자는 주로 소비하는 상품을 기준으로 물가상승률을 느낀다 입력"
   ]
  },
  {
   "cell_type": "code",
   "execution_count": 5,
   "id": "ab027e59",
   "metadata": {
    "execution": {
     "iopub.execute_input": "2024-10-29T02:07:32.086152Z",
     "iopub.status.busy": "2024-10-29T02:07:32.085067Z",
     "iopub.status.idle": "2024-10-29T02:07:32.129008Z",
     "shell.execute_reply": "2024-10-29T02:07:32.127545Z"
    },
    "papermill": {
     "duration": 0.052201,
     "end_time": "2024-10-29T02:07:32.131539",
     "exception": false,
     "start_time": "2024-10-29T02:07:32.079338",
     "status": "completed"
    },
    "tags": []
   },
   "outputs": [
    {
     "name": "stdout",
     "output_type": "stream",
     "text": [
      "vocabulary : {'소비자': 0, '는': 1, '주로': 2, '소비': 3, '하는': 4, '상품': 5, '을': 6, '기준': 7, '으로': 8, '물가상승률': 9, '느낀다': 10}\n",
      "bag of words vector : [1, 1, 1, 1, 1, 1, 2, 1, 1, 1, 1]\n"
     ]
    }
   ],
   "source": [
    "doc2 = '소비자는 주로 소비하는 상품을 기준으로 물가상승률을 느낀다.'\n",
    "\n",
    "vocab, bow = build_bag_of_words(doc2)\n",
    "print('vocabulary :', vocab)\n",
    "print('bag of words vector :', bow)"
   ]
  },
  {
   "cell_type": "markdown",
   "id": "26c96e5a",
   "metadata": {
    "papermill": {
     "duration": 0.00382,
     "end_time": "2024-10-29T02:07:32.139645",
     "exception": false,
     "start_time": "2024-10-29T02:07:32.135825",
     "status": "completed"
    },
    "tags": []
   },
   "source": [
    "문서3: 정부가 발표하는 물가상승률과 소비자가 느끼는 물가상승률은 다르다. 소비자는 주로 소비하는 상품을 기준으로 물가상승률을 느낀다 입력"
   ]
  },
  {
   "cell_type": "code",
   "execution_count": 6,
   "id": "49614548",
   "metadata": {
    "execution": {
     "iopub.execute_input": "2024-10-29T02:07:32.150158Z",
     "iopub.status.busy": "2024-10-29T02:07:32.149250Z",
     "iopub.status.idle": "2024-10-29T02:07:32.212331Z",
     "shell.execute_reply": "2024-10-29T02:07:32.209503Z"
    },
    "papermill": {
     "duration": 0.071539,
     "end_time": "2024-10-29T02:07:32.215395",
     "exception": false,
     "start_time": "2024-10-29T02:07:32.143856",
     "status": "completed"
    },
    "tags": []
   },
   "outputs": [
    {
     "name": "stdout",
     "output_type": "stream",
     "text": [
      "vocabulary : {'정부': 0, '가': 1, '발표': 2, '하는': 3, '물가상승률': 4, '과': 5, '소비자': 6, '느끼는': 7, '은': 8, '다르다': 9, '는': 10, '주로': 11, '소비': 12, '상품': 13, '을': 14, '기준': 15, '으로': 16, '느낀다': 17}\n",
      "bag of words vector : [1, 2, 1, 2, 3, 1, 2, 1, 1, 1, 1, 1, 1, 1, 2, 1, 1, 1]\n"
     ]
    }
   ],
   "source": [
    "doc3 = doc1 + ' ' + doc2\n",
    "vocab, bow = build_bag_of_words(doc3)\n",
    "print('vocabulary :', vocab)\n",
    "print('bag of words vector :', bow)"
   ]
  }
 ],
 "metadata": {
  "kaggle": {
   "accelerator": "none",
   "dataSources": [],
   "dockerImageVersionId": 30786,
   "isGpuEnabled": false,
   "isInternetEnabled": true,
   "language": "python",
   "sourceType": "notebook"
  },
  "kernelspec": {
   "display_name": "Python 3",
   "language": "python",
   "name": "python3"
  },
  "language_info": {
   "codemirror_mode": {
    "name": "ipython",
    "version": 3
   },
   "file_extension": ".py",
   "mimetype": "text/x-python",
   "name": "python",
   "nbconvert_exporter": "python",
   "pygments_lexer": "ipython3",
   "version": "3.10.14"
  },
  "papermill": {
   "default_parameters": {},
   "duration": 25.208676,
   "end_time": "2024-10-29T02:07:32.741675",
   "environment_variables": {},
   "exception": null,
   "input_path": "__notebook__.ipynb",
   "output_path": "__notebook__.ipynb",
   "parameters": {},
   "start_time": "2024-10-29T02:07:07.532999",
   "version": "2.6.0"
  }
 },
 "nbformat": 4,
 "nbformat_minor": 5
}
