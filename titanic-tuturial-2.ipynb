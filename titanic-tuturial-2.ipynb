{
 "cells": [
  {
   "cell_type": "code",
   "execution_count": 1,
   "id": "0f81fe1a",
   "metadata": {
    "_cell_guid": "b1076dfc-b9ad-4769-8c92-a6c4dae69d19",
    "_uuid": "8f2839f25d086af736a60e9eeb907d3b93b6e0e5",
    "execution": {
     "iopub.execute_input": "2024-10-18T07:06:36.680625Z",
     "iopub.status.busy": "2024-10-18T07:06:36.680126Z",
     "iopub.status.idle": "2024-10-18T07:06:37.719153Z",
     "shell.execute_reply": "2024-10-18T07:06:37.717408Z"
    },
    "papermill": {
     "duration": 1.053965,
     "end_time": "2024-10-18T07:06:37.721975",
     "exception": false,
     "start_time": "2024-10-18T07:06:36.668010",
     "status": "completed"
    },
    "tags": []
   },
   "outputs": [
    {
     "name": "stdout",
     "output_type": "stream",
     "text": [
      "/kaggle/input/titanic/train.csv\n",
      "/kaggle/input/titanic/test.csv\n",
      "/kaggle/input/titanic/gender_submission.csv\n"
     ]
    }
   ],
   "source": [
    "# This Python 3 environment comes with many helpful analytics libraries installed\n",
    "# It is defined by the kaggle/python Docker image: https://github.com/kaggle/docker-python\n",
    "# For example, here's several helpful packages to load\n",
    "\n",
    "import numpy as np # linear algebra\n",
    "import pandas as pd # data processing, CSV file I/O (e.g. pd.read_csv)\n",
    "\n",
    "# Input data files are available in the read-only \"../input/\" directory\n",
    "# For example, running this (by clicking run or pressing Shift+Enter) will list all files under the input directory\n",
    "\n",
    "import os\n",
    "for dirname, _, filenames in os.walk('/kaggle/input'):\n",
    "    for filename in filenames:\n",
    "        print(os.path.join(dirname, filename))\n",
    "\n",
    "# You can write up to 20GB to the current directory (/kaggle/working/) that gets preserved as output when you create a version using \"Save & Run All\" \n",
    "# You can also write temporary files to /kaggle/temp/, but they won't be saved outside of the current session"
   ]
  },
  {
   "cell_type": "code",
   "execution_count": 2,
   "id": "28bf5355",
   "metadata": {
    "execution": {
     "iopub.execute_input": "2024-10-18T07:06:37.743580Z",
     "iopub.status.busy": "2024-10-18T07:06:37.742237Z",
     "iopub.status.idle": "2024-10-18T07:06:37.749131Z",
     "shell.execute_reply": "2024-10-18T07:06:37.747832Z"
    },
    "papermill": {
     "duration": 0.020274,
     "end_time": "2024-10-18T07:06:37.751814",
     "exception": false,
     "start_time": "2024-10-18T07:06:37.731540",
     "status": "completed"
    },
    "tags": []
   },
   "outputs": [],
   "source": [
    "import numpy as np\n",
    "import pandas as pd\n",
    "\n",
    "#ignore warnings\n",
    "import warnings\n",
    "warnings.filterwarnings('ignore')"
   ]
  },
  {
   "cell_type": "code",
   "execution_count": 3,
   "id": "ca4c7f2a",
   "metadata": {
    "execution": {
     "iopub.execute_input": "2024-10-18T07:06:37.773813Z",
     "iopub.status.busy": "2024-10-18T07:06:37.773193Z",
     "iopub.status.idle": "2024-10-18T07:06:37.831773Z",
     "shell.execute_reply": "2024-10-18T07:06:37.830478Z"
    },
    "papermill": {
     "duration": 0.072646,
     "end_time": "2024-10-18T07:06:37.834632",
     "exception": false,
     "start_time": "2024-10-18T07:06:37.761986",
     "status": "completed"
    },
    "tags": []
   },
   "outputs": [
    {
     "data": {
      "text/html": [
       "<div>\n",
       "<style scoped>\n",
       "    .dataframe tbody tr th:only-of-type {\n",
       "        vertical-align: middle;\n",
       "    }\n",
       "\n",
       "    .dataframe tbody tr th {\n",
       "        vertical-align: top;\n",
       "    }\n",
       "\n",
       "    .dataframe thead th {\n",
       "        text-align: right;\n",
       "    }\n",
       "</style>\n",
       "<table border=\"1\" class=\"dataframe\">\n",
       "  <thead>\n",
       "    <tr style=\"text-align: right;\">\n",
       "      <th></th>\n",
       "      <th>PassengerId</th>\n",
       "      <th>Survived</th>\n",
       "      <th>Pclass</th>\n",
       "      <th>Name</th>\n",
       "      <th>Sex</th>\n",
       "      <th>Age</th>\n",
       "      <th>SibSp</th>\n",
       "      <th>Parch</th>\n",
       "      <th>Ticket</th>\n",
       "      <th>Fare</th>\n",
       "      <th>Cabin</th>\n",
       "      <th>Embarked</th>\n",
       "    </tr>\n",
       "  </thead>\n",
       "  <tbody>\n",
       "    <tr>\n",
       "      <th>0</th>\n",
       "      <td>1</td>\n",
       "      <td>0</td>\n",
       "      <td>3</td>\n",
       "      <td>Braund, Mr. Owen Harris</td>\n",
       "      <td>male</td>\n",
       "      <td>22.0</td>\n",
       "      <td>1</td>\n",
       "      <td>0</td>\n",
       "      <td>A/5 21171</td>\n",
       "      <td>7.2500</td>\n",
       "      <td>NaN</td>\n",
       "      <td>S</td>\n",
       "    </tr>\n",
       "    <tr>\n",
       "      <th>1</th>\n",
       "      <td>2</td>\n",
       "      <td>1</td>\n",
       "      <td>1</td>\n",
       "      <td>Cumings, Mrs. John Bradley (Florence Briggs Th...</td>\n",
       "      <td>female</td>\n",
       "      <td>38.0</td>\n",
       "      <td>1</td>\n",
       "      <td>0</td>\n",
       "      <td>PC 17599</td>\n",
       "      <td>71.2833</td>\n",
       "      <td>C85</td>\n",
       "      <td>C</td>\n",
       "    </tr>\n",
       "    <tr>\n",
       "      <th>2</th>\n",
       "      <td>3</td>\n",
       "      <td>1</td>\n",
       "      <td>3</td>\n",
       "      <td>Heikkinen, Miss. Laina</td>\n",
       "      <td>female</td>\n",
       "      <td>26.0</td>\n",
       "      <td>0</td>\n",
       "      <td>0</td>\n",
       "      <td>STON/O2. 3101282</td>\n",
       "      <td>7.9250</td>\n",
       "      <td>NaN</td>\n",
       "      <td>S</td>\n",
       "    </tr>\n",
       "    <tr>\n",
       "      <th>3</th>\n",
       "      <td>4</td>\n",
       "      <td>1</td>\n",
       "      <td>1</td>\n",
       "      <td>Futrelle, Mrs. Jacques Heath (Lily May Peel)</td>\n",
       "      <td>female</td>\n",
       "      <td>35.0</td>\n",
       "      <td>1</td>\n",
       "      <td>0</td>\n",
       "      <td>113803</td>\n",
       "      <td>53.1000</td>\n",
       "      <td>C123</td>\n",
       "      <td>S</td>\n",
       "    </tr>\n",
       "    <tr>\n",
       "      <th>4</th>\n",
       "      <td>5</td>\n",
       "      <td>0</td>\n",
       "      <td>3</td>\n",
       "      <td>Allen, Mr. William Henry</td>\n",
       "      <td>male</td>\n",
       "      <td>35.0</td>\n",
       "      <td>0</td>\n",
       "      <td>0</td>\n",
       "      <td>373450</td>\n",
       "      <td>8.0500</td>\n",
       "      <td>NaN</td>\n",
       "      <td>S</td>\n",
       "    </tr>\n",
       "  </tbody>\n",
       "</table>\n",
       "</div>"
      ],
      "text/plain": [
       "   PassengerId  Survived  Pclass  \\\n",
       "0            1         0       3   \n",
       "1            2         1       1   \n",
       "2            3         1       3   \n",
       "3            4         1       1   \n",
       "4            5         0       3   \n",
       "\n",
       "                                                Name     Sex   Age  SibSp  \\\n",
       "0                            Braund, Mr. Owen Harris    male  22.0      1   \n",
       "1  Cumings, Mrs. John Bradley (Florence Briggs Th...  female  38.0      1   \n",
       "2                             Heikkinen, Miss. Laina  female  26.0      0   \n",
       "3       Futrelle, Mrs. Jacques Heath (Lily May Peel)  female  35.0      1   \n",
       "4                           Allen, Mr. William Henry    male  35.0      0   \n",
       "\n",
       "   Parch            Ticket     Fare Cabin Embarked  \n",
       "0      0         A/5 21171   7.2500   NaN        S  \n",
       "1      0          PC 17599  71.2833   C85        C  \n",
       "2      0  STON/O2. 3101282   7.9250   NaN        S  \n",
       "3      0            113803  53.1000  C123        S  \n",
       "4      0            373450   8.0500   NaN        S  "
      ]
     },
     "execution_count": 3,
     "metadata": {},
     "output_type": "execute_result"
    }
   ],
   "source": [
    "train = pd.read_csv(\"/kaggle/input/titanic/train.csv\")\n",
    "test = pd.read_csv(\"/kaggle/input/titanic/test.csv\")\n",
    "\n",
    "train.head()"
   ]
  },
  {
   "cell_type": "code",
   "execution_count": 4,
   "id": "35fa94d5",
   "metadata": {
    "execution": {
     "iopub.execute_input": "2024-10-18T07:06:37.857537Z",
     "iopub.status.busy": "2024-10-18T07:06:37.857059Z",
     "iopub.status.idle": "2024-10-18T07:06:37.865280Z",
     "shell.execute_reply": "2024-10-18T07:06:37.864095Z"
    },
    "papermill": {
     "duration": 0.023449,
     "end_time": "2024-10-18T07:06:37.867879",
     "exception": false,
     "start_time": "2024-10-18T07:06:37.844430",
     "status": "completed"
    },
    "tags": []
   },
   "outputs": [
    {
     "data": {
      "text/plain": [
       "891"
      ]
     },
     "execution_count": 4,
     "metadata": {},
     "output_type": "execute_result"
    }
   ],
   "source": [
    "len(train)"
   ]
  },
  {
   "cell_type": "code",
   "execution_count": 5,
   "id": "3177e2ef",
   "metadata": {
    "execution": {
     "iopub.execute_input": "2024-10-18T07:06:37.889628Z",
     "iopub.status.busy": "2024-10-18T07:06:37.888327Z",
     "iopub.status.idle": "2024-10-18T07:06:37.902773Z",
     "shell.execute_reply": "2024-10-18T07:06:37.901220Z"
    },
    "papermill": {
     "duration": 0.027957,
     "end_time": "2024-10-18T07:06:37.905485",
     "exception": false,
     "start_time": "2024-10-18T07:06:37.877528",
     "status": "completed"
    },
    "tags": []
   },
   "outputs": [
    {
     "name": "stdout",
     "output_type": "stream",
     "text": [
      "[train dataset null check]\n",
      "PassengerId      0\n",
      "Survived         0\n",
      "Pclass           0\n",
      "Name             0\n",
      "Sex              0\n",
      "Age            177\n",
      "SibSp            0\n",
      "Parch            0\n",
      "Ticket           0\n",
      "Fare             0\n",
      "Cabin          687\n",
      "Embarked         2\n",
      "dtype: int64\n",
      "==========================\n",
      "[test dataset null check]\n",
      "PassengerId      0\n",
      "Pclass           0\n",
      "Name             0\n",
      "Sex              0\n",
      "Age             86\n",
      "SibSp            0\n",
      "Parch            0\n",
      "Ticket           0\n",
      "Fare             1\n",
      "Cabin          327\n",
      "Embarked         0\n",
      "dtype: int64\n"
     ]
    }
   ],
   "source": [
    "print('[train dataset null check]')\n",
    "print(pd.isnull(train).sum())\n",
    "print('==========================')\n",
    "\n",
    "print('[test dataset null check]')\n",
    "print(pd.isnull(test).sum())"
   ]
  },
  {
   "cell_type": "code",
   "execution_count": 6,
   "id": "3927ead7",
   "metadata": {
    "execution": {
     "iopub.execute_input": "2024-10-18T07:06:37.927591Z",
     "iopub.status.busy": "2024-10-18T07:06:37.927129Z",
     "iopub.status.idle": "2024-10-18T07:06:37.956572Z",
     "shell.execute_reply": "2024-10-18T07:06:37.955101Z"
    },
    "papermill": {
     "duration": 0.044591,
     "end_time": "2024-10-18T07:06:37.959474",
     "exception": false,
     "start_time": "2024-10-18T07:06:37.914883",
     "status": "completed"
    },
    "tags": []
   },
   "outputs": [
    {
     "data": {
      "text/html": [
       "<div>\n",
       "<style scoped>\n",
       "    .dataframe tbody tr th:only-of-type {\n",
       "        vertical-align: middle;\n",
       "    }\n",
       "\n",
       "    .dataframe tbody tr th {\n",
       "        vertical-align: top;\n",
       "    }\n",
       "\n",
       "    .dataframe thead th {\n",
       "        text-align: right;\n",
       "    }\n",
       "</style>\n",
       "<table border=\"1\" class=\"dataframe\">\n",
       "  <thead>\n",
       "    <tr style=\"text-align: right;\">\n",
       "      <th></th>\n",
       "      <th>PassengerId</th>\n",
       "      <th>Pclass</th>\n",
       "      <th>Name</th>\n",
       "      <th>Sex</th>\n",
       "      <th>Age</th>\n",
       "      <th>SibSp</th>\n",
       "      <th>Parch</th>\n",
       "      <th>Ticket</th>\n",
       "      <th>Fare</th>\n",
       "      <th>Cabin</th>\n",
       "      <th>Embarked</th>\n",
       "    </tr>\n",
       "  </thead>\n",
       "  <tbody>\n",
       "    <tr>\n",
       "      <th>0</th>\n",
       "      <td>892</td>\n",
       "      <td>3</td>\n",
       "      <td>Kelly, Mr. James</td>\n",
       "      <td>0</td>\n",
       "      <td>34.5</td>\n",
       "      <td>0</td>\n",
       "      <td>0</td>\n",
       "      <td>330911</td>\n",
       "      <td>7.8292</td>\n",
       "      <td>NaN</td>\n",
       "      <td>3</td>\n",
       "    </tr>\n",
       "    <tr>\n",
       "      <th>1</th>\n",
       "      <td>893</td>\n",
       "      <td>3</td>\n",
       "      <td>Wilkes, Mrs. James (Ellen Needs)</td>\n",
       "      <td>1</td>\n",
       "      <td>47.0</td>\n",
       "      <td>1</td>\n",
       "      <td>0</td>\n",
       "      <td>363272</td>\n",
       "      <td>7.0000</td>\n",
       "      <td>NaN</td>\n",
       "      <td>1</td>\n",
       "    </tr>\n",
       "    <tr>\n",
       "      <th>2</th>\n",
       "      <td>894</td>\n",
       "      <td>2</td>\n",
       "      <td>Myles, Mr. Thomas Francis</td>\n",
       "      <td>0</td>\n",
       "      <td>62.0</td>\n",
       "      <td>0</td>\n",
       "      <td>0</td>\n",
       "      <td>240276</td>\n",
       "      <td>9.6875</td>\n",
       "      <td>NaN</td>\n",
       "      <td>3</td>\n",
       "    </tr>\n",
       "    <tr>\n",
       "      <th>3</th>\n",
       "      <td>895</td>\n",
       "      <td>3</td>\n",
       "      <td>Wirz, Mr. Albert</td>\n",
       "      <td>0</td>\n",
       "      <td>27.0</td>\n",
       "      <td>0</td>\n",
       "      <td>0</td>\n",
       "      <td>315154</td>\n",
       "      <td>8.6625</td>\n",
       "      <td>NaN</td>\n",
       "      <td>1</td>\n",
       "    </tr>\n",
       "    <tr>\n",
       "      <th>4</th>\n",
       "      <td>896</td>\n",
       "      <td>3</td>\n",
       "      <td>Hirvonen, Mrs. Alexander (Helga E Lindqvist)</td>\n",
       "      <td>1</td>\n",
       "      <td>22.0</td>\n",
       "      <td>1</td>\n",
       "      <td>1</td>\n",
       "      <td>3101298</td>\n",
       "      <td>12.2875</td>\n",
       "      <td>NaN</td>\n",
       "      <td>1</td>\n",
       "    </tr>\n",
       "  </tbody>\n",
       "</table>\n",
       "</div>"
      ],
      "text/plain": [
       "   PassengerId  Pclass                                          Name  Sex  \\\n",
       "0          892       3                              Kelly, Mr. James    0   \n",
       "1          893       3              Wilkes, Mrs. James (Ellen Needs)    1   \n",
       "2          894       2                     Myles, Mr. Thomas Francis    0   \n",
       "3          895       3                              Wirz, Mr. Albert    0   \n",
       "4          896       3  Hirvonen, Mrs. Alexander (Helga E Lindqvist)    1   \n",
       "\n",
       "    Age  SibSp  Parch   Ticket     Fare Cabin  Embarked  \n",
       "0  34.5      0      0   330911   7.8292   NaN         3  \n",
       "1  47.0      1      0   363272   7.0000   NaN         1  \n",
       "2  62.0      0      0   240276   9.6875   NaN         3  \n",
       "3  27.0      0      0   315154   8.6625   NaN         1  \n",
       "4  22.0      1      1  3101298  12.2875   NaN         1  "
      ]
     },
     "execution_count": 6,
     "metadata": {},
     "output_type": "execute_result"
    }
   ],
   "source": [
    "sex_mapping = {\"male\": 0, \"female\": 1}\n",
    "train['Sex'] = train['Sex'].map(sex_mapping)\n",
    "test['Sex'] = test['Sex'].map(sex_mapping)\n",
    "\n",
    "embarked_mapping = {\"S\": 1, \"C\": 2, \"Q\": 3}\n",
    "train['Embarked'] = train['Embarked'].map(embarked_mapping)\n",
    "test['Embarked'] = test['Embarked'].map(embarked_mapping)\n",
    "\n",
    "test.head()"
   ]
  },
  {
   "cell_type": "code",
   "execution_count": 7,
   "id": "6d74f733",
   "metadata": {
    "execution": {
     "iopub.execute_input": "2024-10-18T07:06:37.982244Z",
     "iopub.status.busy": "2024-10-18T07:06:37.981784Z",
     "iopub.status.idle": "2024-10-18T07:06:37.991021Z",
     "shell.execute_reply": "2024-10-18T07:06:37.989789Z"
    },
    "papermill": {
     "duration": 0.023681,
     "end_time": "2024-10-18T07:06:37.993618",
     "exception": false,
     "start_time": "2024-10-18T07:06:37.969937",
     "status": "completed"
    },
    "tags": []
   },
   "outputs": [
    {
     "data": {
      "text/plain": [
       "35.6272"
      ]
     },
     "execution_count": 7,
     "metadata": {},
     "output_type": "execute_result"
    }
   ],
   "source": [
    "test_fare_mean = round(test[\"Fare\"].mean(), 4) # will fill in empty cell with mean value\n",
    "test_fare_mean"
   ]
  },
  {
   "cell_type": "code",
   "execution_count": 8,
   "id": "b87debe3",
   "metadata": {
    "execution": {
     "iopub.execute_input": "2024-10-18T07:06:38.017338Z",
     "iopub.status.busy": "2024-10-18T07:06:38.016306Z",
     "iopub.status.idle": "2024-10-18T07:06:39.569681Z",
     "shell.execute_reply": "2024-10-18T07:06:39.568402Z"
    },
    "papermill": {
     "duration": 1.568401,
     "end_time": "2024-10-18T07:06:39.572698",
     "exception": false,
     "start_time": "2024-10-18T07:06:38.004297",
     "status": "completed"
    },
    "tags": []
   },
   "outputs": [],
   "source": [
    "from sklearn.model_selection import train_test_split \n",
    "\n",
    "train[\"Embarked\"] = train[\"Embarked\"].fillna(3) # 1, 2, 3\n",
    "test[\"Embarked\"] = test[\"Embarked\"].fillna(3)\n",
    "\n",
    "test[\"Fare\"] = test[\"Fare\"].fillna(test_fare_mean)\n",
    "\n",
    "drop_columns = ['Name','Age','Ticket','Cabin']\n",
    "train_simple = train.drop(drop_columns, axis=1)\n",
    "\n",
    "train_drop_columns = ['Survived', 'PassengerId']\n",
    "train_simple = train_simple.drop(train_drop_columns, axis=1)\n",
    "\n",
    "test_simple = test.drop(drop_columns, axis=1)\n",
    "\n",
    "target = train[\"Survived\"]\n",
    "x_train, x_val, y_train, y_val = train_test_split(train_simple, target, test_size = 0.2, random_state = 0)"
   ]
  },
  {
   "cell_type": "code",
   "execution_count": 9,
   "id": "e35ce087",
   "metadata": {
    "execution": {
     "iopub.execute_input": "2024-10-18T07:06:39.595241Z",
     "iopub.status.busy": "2024-10-18T07:06:39.594206Z",
     "iopub.status.idle": "2024-10-18T07:06:39.609594Z",
     "shell.execute_reply": "2024-10-18T07:06:39.608365Z"
    },
    "papermill": {
     "duration": 0.02938,
     "end_time": "2024-10-18T07:06:39.612050",
     "exception": false,
     "start_time": "2024-10-18T07:06:39.582670",
     "status": "completed"
    },
    "tags": []
   },
   "outputs": [
    {
     "data": {
      "text/html": [
       "<div>\n",
       "<style scoped>\n",
       "    .dataframe tbody tr th:only-of-type {\n",
       "        vertical-align: middle;\n",
       "    }\n",
       "\n",
       "    .dataframe tbody tr th {\n",
       "        vertical-align: top;\n",
       "    }\n",
       "\n",
       "    .dataframe thead th {\n",
       "        text-align: right;\n",
       "    }\n",
       "</style>\n",
       "<table border=\"1\" class=\"dataframe\">\n",
       "  <thead>\n",
       "    <tr style=\"text-align: right;\">\n",
       "      <th></th>\n",
       "      <th>Pclass</th>\n",
       "      <th>Sex</th>\n",
       "      <th>SibSp</th>\n",
       "      <th>Parch</th>\n",
       "      <th>Fare</th>\n",
       "      <th>Embarked</th>\n",
       "    </tr>\n",
       "  </thead>\n",
       "  <tbody>\n",
       "    <tr>\n",
       "      <th>0</th>\n",
       "      <td>3</td>\n",
       "      <td>0</td>\n",
       "      <td>1</td>\n",
       "      <td>0</td>\n",
       "      <td>7.2500</td>\n",
       "      <td>1.0</td>\n",
       "    </tr>\n",
       "    <tr>\n",
       "      <th>1</th>\n",
       "      <td>1</td>\n",
       "      <td>1</td>\n",
       "      <td>1</td>\n",
       "      <td>0</td>\n",
       "      <td>71.2833</td>\n",
       "      <td>2.0</td>\n",
       "    </tr>\n",
       "    <tr>\n",
       "      <th>2</th>\n",
       "      <td>3</td>\n",
       "      <td>1</td>\n",
       "      <td>0</td>\n",
       "      <td>0</td>\n",
       "      <td>7.9250</td>\n",
       "      <td>1.0</td>\n",
       "    </tr>\n",
       "    <tr>\n",
       "      <th>3</th>\n",
       "      <td>1</td>\n",
       "      <td>1</td>\n",
       "      <td>1</td>\n",
       "      <td>0</td>\n",
       "      <td>53.1000</td>\n",
       "      <td>1.0</td>\n",
       "    </tr>\n",
       "    <tr>\n",
       "      <th>4</th>\n",
       "      <td>3</td>\n",
       "      <td>0</td>\n",
       "      <td>0</td>\n",
       "      <td>0</td>\n",
       "      <td>8.0500</td>\n",
       "      <td>1.0</td>\n",
       "    </tr>\n",
       "  </tbody>\n",
       "</table>\n",
       "</div>"
      ],
      "text/plain": [
       "   Pclass  Sex  SibSp  Parch     Fare  Embarked\n",
       "0       3    0      1      0   7.2500       1.0\n",
       "1       1    1      1      0  71.2833       2.0\n",
       "2       3    1      0      0   7.9250       1.0\n",
       "3       1    1      1      0  53.1000       1.0\n",
       "4       3    0      0      0   8.0500       1.0"
      ]
     },
     "execution_count": 9,
     "metadata": {},
     "output_type": "execute_result"
    }
   ],
   "source": [
    "train_simple.head()"
   ]
  },
  {
   "cell_type": "code",
   "execution_count": 10,
   "id": "d29e7dce",
   "metadata": {
    "execution": {
     "iopub.execute_input": "2024-10-18T07:06:39.636952Z",
     "iopub.status.busy": "2024-10-18T07:06:39.635708Z",
     "iopub.status.idle": "2024-10-18T07:06:39.645629Z",
     "shell.execute_reply": "2024-10-18T07:06:39.644095Z"
    },
    "papermill": {
     "duration": 0.026091,
     "end_time": "2024-10-18T07:06:39.648231",
     "exception": false,
     "start_time": "2024-10-18T07:06:39.622140",
     "status": "completed"
    },
    "tags": []
   },
   "outputs": [
    {
     "name": "stdout",
     "output_type": "stream",
     "text": [
      "Pclass      0\n",
      "Sex         0\n",
      "SibSp       0\n",
      "Parch       0\n",
      "Fare        0\n",
      "Embarked    0\n",
      "dtype: int64\n"
     ]
    }
   ],
   "source": [
    "print(pd.isnull(train_simple).sum())"
   ]
  },
  {
   "cell_type": "code",
   "execution_count": 11,
   "id": "66f8b226",
   "metadata": {
    "execution": {
     "iopub.execute_input": "2024-10-18T07:06:39.671901Z",
     "iopub.status.busy": "2024-10-18T07:06:39.670577Z",
     "iopub.status.idle": "2024-10-18T07:06:39.686653Z",
     "shell.execute_reply": "2024-10-18T07:06:39.685438Z"
    },
    "papermill": {
     "duration": 0.030613,
     "end_time": "2024-10-18T07:06:39.689204",
     "exception": false,
     "start_time": "2024-10-18T07:06:39.658591",
     "status": "completed"
    },
    "tags": []
   },
   "outputs": [
    {
     "data": {
      "text/html": [
       "<div>\n",
       "<style scoped>\n",
       "    .dataframe tbody tr th:only-of-type {\n",
       "        vertical-align: middle;\n",
       "    }\n",
       "\n",
       "    .dataframe tbody tr th {\n",
       "        vertical-align: top;\n",
       "    }\n",
       "\n",
       "    .dataframe thead th {\n",
       "        text-align: right;\n",
       "    }\n",
       "</style>\n",
       "<table border=\"1\" class=\"dataframe\">\n",
       "  <thead>\n",
       "    <tr style=\"text-align: right;\">\n",
       "      <th></th>\n",
       "      <th>PassengerId</th>\n",
       "      <th>Pclass</th>\n",
       "      <th>Sex</th>\n",
       "      <th>SibSp</th>\n",
       "      <th>Parch</th>\n",
       "      <th>Fare</th>\n",
       "      <th>Embarked</th>\n",
       "    </tr>\n",
       "  </thead>\n",
       "  <tbody>\n",
       "    <tr>\n",
       "      <th>0</th>\n",
       "      <td>892</td>\n",
       "      <td>3</td>\n",
       "      <td>0</td>\n",
       "      <td>0</td>\n",
       "      <td>0</td>\n",
       "      <td>7.8292</td>\n",
       "      <td>3</td>\n",
       "    </tr>\n",
       "    <tr>\n",
       "      <th>1</th>\n",
       "      <td>893</td>\n",
       "      <td>3</td>\n",
       "      <td>1</td>\n",
       "      <td>1</td>\n",
       "      <td>0</td>\n",
       "      <td>7.0000</td>\n",
       "      <td>1</td>\n",
       "    </tr>\n",
       "    <tr>\n",
       "      <th>2</th>\n",
       "      <td>894</td>\n",
       "      <td>2</td>\n",
       "      <td>0</td>\n",
       "      <td>0</td>\n",
       "      <td>0</td>\n",
       "      <td>9.6875</td>\n",
       "      <td>3</td>\n",
       "    </tr>\n",
       "    <tr>\n",
       "      <th>3</th>\n",
       "      <td>895</td>\n",
       "      <td>3</td>\n",
       "      <td>0</td>\n",
       "      <td>0</td>\n",
       "      <td>0</td>\n",
       "      <td>8.6625</td>\n",
       "      <td>1</td>\n",
       "    </tr>\n",
       "    <tr>\n",
       "      <th>4</th>\n",
       "      <td>896</td>\n",
       "      <td>3</td>\n",
       "      <td>1</td>\n",
       "      <td>1</td>\n",
       "      <td>1</td>\n",
       "      <td>12.2875</td>\n",
       "      <td>1</td>\n",
       "    </tr>\n",
       "  </tbody>\n",
       "</table>\n",
       "</div>"
      ],
      "text/plain": [
       "   PassengerId  Pclass  Sex  SibSp  Parch     Fare  Embarked\n",
       "0          892       3    0      0      0   7.8292         3\n",
       "1          893       3    1      1      0   7.0000         1\n",
       "2          894       2    0      0      0   9.6875         3\n",
       "3          895       3    0      0      0   8.6625         1\n",
       "4          896       3    1      1      1  12.2875         1"
      ]
     },
     "execution_count": 11,
     "metadata": {},
     "output_type": "execute_result"
    }
   ],
   "source": [
    "test_simple.head()"
   ]
  },
  {
   "cell_type": "code",
   "execution_count": 12,
   "id": "2b86e583",
   "metadata": {
    "execution": {
     "iopub.execute_input": "2024-10-18T07:06:39.714107Z",
     "iopub.status.busy": "2024-10-18T07:06:39.713125Z",
     "iopub.status.idle": "2024-10-18T07:06:39.722579Z",
     "shell.execute_reply": "2024-10-18T07:06:39.721061Z"
    },
    "papermill": {
     "duration": 0.025326,
     "end_time": "2024-10-18T07:06:39.725513",
     "exception": false,
     "start_time": "2024-10-18T07:06:39.700187",
     "status": "completed"
    },
    "tags": []
   },
   "outputs": [
    {
     "name": "stdout",
     "output_type": "stream",
     "text": [
      "PassengerId    0\n",
      "Pclass         0\n",
      "Sex            0\n",
      "SibSp          0\n",
      "Parch          0\n",
      "Fare           0\n",
      "Embarked       0\n",
      "dtype: int64\n"
     ]
    }
   ],
   "source": [
    "print(pd.isnull(test_simple).sum())"
   ]
  },
  {
   "cell_type": "code",
   "execution_count": 13,
   "id": "2a02fa3c",
   "metadata": {
    "execution": {
     "iopub.execute_input": "2024-10-18T07:06:39.750402Z",
     "iopub.status.busy": "2024-10-18T07:06:39.749852Z",
     "iopub.status.idle": "2024-10-18T07:06:40.035131Z",
     "shell.execute_reply": "2024-10-18T07:06:40.033288Z"
    },
    "papermill": {
     "duration": 0.301383,
     "end_time": "2024-10-18T07:06:40.038261",
     "exception": false,
     "start_time": "2024-10-18T07:06:39.736878",
     "status": "completed"
    },
    "tags": []
   },
   "outputs": [
    {
     "name": "stdout",
     "output_type": "stream",
     "text": [
      "79.89\n"
     ]
    }
   ],
   "source": [
    "from sklearn.linear_model import LogisticRegression\n",
    "from sklearn.metrics import accuracy_score\n",
    "\n",
    "logreg = LogisticRegression()\n",
    "logreg.fit(x_train, y_train)\n",
    "y_pred = logreg.predict(x_val)\n",
    "acc_logreg = round(accuracy_score(y_pred, y_val) * 100, 2)\n",
    "print(acc_logreg)"
   ]
  },
  {
   "cell_type": "code",
   "execution_count": 14,
   "id": "fa77da0c",
   "metadata": {
    "execution": {
     "iopub.execute_input": "2024-10-18T07:06:40.062234Z",
     "iopub.status.busy": "2024-10-18T07:06:40.061744Z",
     "iopub.status.idle": "2024-10-18T07:06:40.081121Z",
     "shell.execute_reply": "2024-10-18T07:06:40.079477Z"
    },
    "papermill": {
     "duration": 0.034795,
     "end_time": "2024-10-18T07:06:40.083942",
     "exception": false,
     "start_time": "2024-10-18T07:06:40.049147",
     "status": "completed"
    },
    "tags": []
   },
   "outputs": [
    {
     "name": "stdout",
     "output_type": "stream",
     "text": [
      "69.83\n"
     ]
    }
   ],
   "source": [
    "from sklearn.linear_model import Perceptron\n",
    "\n",
    "perceptron = Perceptron()\n",
    "perceptron.fit(x_train, y_train)\n",
    "y_pred = perceptron.predict(x_val)\n",
    "acc_perceptron = round(accuracy_score(y_pred, y_val) * 100, 2)\n",
    "print(acc_perceptron)"
   ]
  },
  {
   "cell_type": "code",
   "execution_count": 15,
   "id": "62b2ffcf",
   "metadata": {
    "execution": {
     "iopub.execute_input": "2024-10-18T07:06:40.108478Z",
     "iopub.status.busy": "2024-10-18T07:06:40.107415Z",
     "iopub.status.idle": "2024-10-18T07:06:40.127045Z",
     "shell.execute_reply": "2024-10-18T07:06:40.125465Z"
    },
    "papermill": {
     "duration": 0.035429,
     "end_time": "2024-10-18T07:06:40.130179",
     "exception": false,
     "start_time": "2024-10-18T07:06:40.094750",
     "status": "completed"
    },
    "tags": []
   },
   "outputs": [
    {
     "data": {
      "text/html": [
       "<div>\n",
       "<style scoped>\n",
       "    .dataframe tbody tr th:only-of-type {\n",
       "        vertical-align: middle;\n",
       "    }\n",
       "\n",
       "    .dataframe tbody tr th {\n",
       "        vertical-align: top;\n",
       "    }\n",
       "\n",
       "    .dataframe thead th {\n",
       "        text-align: right;\n",
       "    }\n",
       "</style>\n",
       "<table border=\"1\" class=\"dataframe\">\n",
       "  <thead>\n",
       "    <tr style=\"text-align: right;\">\n",
       "      <th></th>\n",
       "      <th>Pclass</th>\n",
       "      <th>Sex</th>\n",
       "      <th>SibSp</th>\n",
       "      <th>Parch</th>\n",
       "      <th>Fare</th>\n",
       "      <th>Embarked</th>\n",
       "    </tr>\n",
       "  </thead>\n",
       "  <tbody>\n",
       "    <tr>\n",
       "      <th>140</th>\n",
       "      <td>3</td>\n",
       "      <td>1</td>\n",
       "      <td>0</td>\n",
       "      <td>2</td>\n",
       "      <td>15.2458</td>\n",
       "      <td>2.0</td>\n",
       "    </tr>\n",
       "    <tr>\n",
       "      <th>439</th>\n",
       "      <td>2</td>\n",
       "      <td>0</td>\n",
       "      <td>0</td>\n",
       "      <td>0</td>\n",
       "      <td>10.5000</td>\n",
       "      <td>1.0</td>\n",
       "    </tr>\n",
       "    <tr>\n",
       "      <th>817</th>\n",
       "      <td>2</td>\n",
       "      <td>0</td>\n",
       "      <td>1</td>\n",
       "      <td>1</td>\n",
       "      <td>37.0042</td>\n",
       "      <td>2.0</td>\n",
       "    </tr>\n",
       "    <tr>\n",
       "      <th>378</th>\n",
       "      <td>3</td>\n",
       "      <td>0</td>\n",
       "      <td>0</td>\n",
       "      <td>0</td>\n",
       "      <td>4.0125</td>\n",
       "      <td>2.0</td>\n",
       "    </tr>\n",
       "    <tr>\n",
       "      <th>491</th>\n",
       "      <td>3</td>\n",
       "      <td>0</td>\n",
       "      <td>0</td>\n",
       "      <td>0</td>\n",
       "      <td>7.2500</td>\n",
       "      <td>1.0</td>\n",
       "    </tr>\n",
       "    <tr>\n",
       "      <th>...</th>\n",
       "      <td>...</td>\n",
       "      <td>...</td>\n",
       "      <td>...</td>\n",
       "      <td>...</td>\n",
       "      <td>...</td>\n",
       "      <td>...</td>\n",
       "    </tr>\n",
       "    <tr>\n",
       "      <th>835</th>\n",
       "      <td>1</td>\n",
       "      <td>1</td>\n",
       "      <td>1</td>\n",
       "      <td>1</td>\n",
       "      <td>83.1583</td>\n",
       "      <td>2.0</td>\n",
       "    </tr>\n",
       "    <tr>\n",
       "      <th>192</th>\n",
       "      <td>3</td>\n",
       "      <td>1</td>\n",
       "      <td>1</td>\n",
       "      <td>0</td>\n",
       "      <td>7.8542</td>\n",
       "      <td>1.0</td>\n",
       "    </tr>\n",
       "    <tr>\n",
       "      <th>629</th>\n",
       "      <td>3</td>\n",
       "      <td>0</td>\n",
       "      <td>0</td>\n",
       "      <td>0</td>\n",
       "      <td>7.7333</td>\n",
       "      <td>3.0</td>\n",
       "    </tr>\n",
       "    <tr>\n",
       "      <th>559</th>\n",
       "      <td>3</td>\n",
       "      <td>1</td>\n",
       "      <td>1</td>\n",
       "      <td>0</td>\n",
       "      <td>17.4000</td>\n",
       "      <td>1.0</td>\n",
       "    </tr>\n",
       "    <tr>\n",
       "      <th>684</th>\n",
       "      <td>2</td>\n",
       "      <td>0</td>\n",
       "      <td>1</td>\n",
       "      <td>1</td>\n",
       "      <td>39.0000</td>\n",
       "      <td>1.0</td>\n",
       "    </tr>\n",
       "  </tbody>\n",
       "</table>\n",
       "<p>712 rows × 6 columns</p>\n",
       "</div>"
      ],
      "text/plain": [
       "     Pclass  Sex  SibSp  Parch     Fare  Embarked\n",
       "140       3    1      0      2  15.2458       2.0\n",
       "439       2    0      0      0  10.5000       1.0\n",
       "817       2    0      1      1  37.0042       2.0\n",
       "378       3    0      0      0   4.0125       2.0\n",
       "491       3    0      0      0   7.2500       1.0\n",
       "..      ...  ...    ...    ...      ...       ...\n",
       "835       1    1      1      1  83.1583       2.0\n",
       "192       3    1      1      0   7.8542       1.0\n",
       "629       3    0      0      0   7.7333       3.0\n",
       "559       3    1      1      0  17.4000       1.0\n",
       "684       2    0      1      1  39.0000       1.0\n",
       "\n",
       "[712 rows x 6 columns]"
      ]
     },
     "execution_count": 15,
     "metadata": {},
     "output_type": "execute_result"
    }
   ],
   "source": [
    "x_train"
   ]
  },
  {
   "cell_type": "code",
   "execution_count": 16,
   "id": "91eca330",
   "metadata": {
    "execution": {
     "iopub.execute_input": "2024-10-18T07:06:40.156698Z",
     "iopub.status.busy": "2024-10-18T07:06:40.155299Z",
     "iopub.status.idle": "2024-10-18T07:06:40.163921Z",
     "shell.execute_reply": "2024-10-18T07:06:40.162661Z"
    },
    "papermill": {
     "duration": 0.025008,
     "end_time": "2024-10-18T07:06:40.166549",
     "exception": false,
     "start_time": "2024-10-18T07:06:40.141541",
     "status": "completed"
    },
    "tags": []
   },
   "outputs": [
    {
     "data": {
      "text/plain": [
       "6"
      ]
     },
     "execution_count": 16,
     "metadata": {},
     "output_type": "execute_result"
    }
   ],
   "source": [
    "len(x_train.columns)"
   ]
  },
  {
   "cell_type": "code",
   "execution_count": 17,
   "id": "920c221b",
   "metadata": {
    "execution": {
     "iopub.execute_input": "2024-10-18T07:06:40.193767Z",
     "iopub.status.busy": "2024-10-18T07:06:40.192499Z",
     "iopub.status.idle": "2024-10-18T07:06:40.198842Z",
     "shell.execute_reply": "2024-10-18T07:06:40.197562Z"
    },
    "papermill": {
     "duration": 0.022785,
     "end_time": "2024-10-18T07:06:40.201706",
     "exception": false,
     "start_time": "2024-10-18T07:06:40.178921",
     "status": "completed"
    },
    "tags": []
   },
   "outputs": [],
   "source": [
    "num_features = len(x_train.columns) #6\n",
    "num_class = 2 # [0, 1]"
   ]
  },
  {
   "cell_type": "code",
   "execution_count": 18,
   "id": "422d6379",
   "metadata": {
    "execution": {
     "iopub.execute_input": "2024-10-18T07:06:40.227472Z",
     "iopub.status.busy": "2024-10-18T07:06:40.226978Z",
     "iopub.status.idle": "2024-10-18T07:06:43.848862Z",
     "shell.execute_reply": "2024-10-18T07:06:43.847469Z"
    },
    "papermill": {
     "duration": 3.638325,
     "end_time": "2024-10-18T07:06:43.851900",
     "exception": false,
     "start_time": "2024-10-18T07:06:40.213575",
     "status": "completed"
    },
    "tags": []
   },
   "outputs": [],
   "source": [
    "import torch\n",
    "import torch.nn as nn\n",
    "\n",
    "\n",
    "class LinearModel(nn.Module):\n",
    "    def __init__(self): \n",
    "        super(LinearModel, self).__init__()\n",
    "        self.linear = nn.Linear(in_features=num_features, out_features=num_class, bias=True)\n",
    "    \n",
    "    def forward(self, x):\n",
    "        x = self.linear(x)\n",
    "        return x\n",
    "\n",
    "    \n",
    "class MLPModel(nn.Module):\n",
    "    def __init__(self): \n",
    "        super(MLPModel, self).__init__()\n",
    "        self.linear1 = nn.Linear(in_features=num_features, out_features=200)\n",
    "        self.linear2 = nn.Linear(in_features=200, out_features=num_class)\n",
    "        self.relu = nn.ReLU()\n",
    "    \n",
    "    def forward(self, x):\n",
    "        x = self.linear1(x)\n",
    "        x = self.relu(x)\n",
    "        x = self.linear2(x)\n",
    "        return x"
   ]
  },
  {
   "cell_type": "code",
   "execution_count": 19,
   "id": "ad396ac7",
   "metadata": {
    "execution": {
     "iopub.execute_input": "2024-10-18T07:06:43.880527Z",
     "iopub.status.busy": "2024-10-18T07:06:43.879196Z",
     "iopub.status.idle": "2024-10-18T07:06:43.885569Z",
     "shell.execute_reply": "2024-10-18T07:06:43.884148Z"
    },
    "papermill": {
     "duration": 0.023096,
     "end_time": "2024-10-18T07:06:43.888135",
     "exception": false,
     "start_time": "2024-10-18T07:06:43.865039",
     "status": "completed"
    },
    "tags": []
   },
   "outputs": [],
   "source": [
    "criterion = nn.CrossEntropyLoss()"
   ]
  },
  {
   "cell_type": "code",
   "execution_count": 20,
   "id": "ddc83a79",
   "metadata": {
    "execution": {
     "iopub.execute_input": "2024-10-18T07:06:43.913920Z",
     "iopub.status.busy": "2024-10-18T07:06:43.913475Z",
     "iopub.status.idle": "2024-10-18T07:06:43.921411Z",
     "shell.execute_reply": "2024-10-18T07:06:43.920163Z"
    },
    "papermill": {
     "duration": 0.024325,
     "end_time": "2024-10-18T07:06:43.924235",
     "exception": false,
     "start_time": "2024-10-18T07:06:43.899910",
     "status": "completed"
    },
    "tags": []
   },
   "outputs": [],
   "source": [
    "X_train = np.array(x_train)\n",
    "X_val = np.array(x_val)\n",
    "\n",
    "y_train = np.array(y_train)\n",
    "y_val = np.array(y_val)"
   ]
  },
  {
   "cell_type": "code",
   "execution_count": 21,
   "id": "b130435b",
   "metadata": {
    "execution": {
     "iopub.execute_input": "2024-10-18T07:06:43.950129Z",
     "iopub.status.busy": "2024-10-18T07:06:43.949646Z",
     "iopub.status.idle": "2024-10-18T07:06:50.428239Z",
     "shell.execute_reply": "2024-10-18T07:06:50.426604Z"
    },
    "papermill": {
     "duration": 6.495313,
     "end_time": "2024-10-18T07:06:50.431547",
     "exception": false,
     "start_time": "2024-10-18T07:06:43.936234",
     "status": "completed"
    },
    "tags": []
   },
   "outputs": [
    {
     "name": "stdout",
     "output_type": "stream",
     "text": [
      "1802 parameters\n",
      "Epoch:  0 Accuracy:  38.547486033519554 %\n",
      "Epoch:  200 Accuracy:  66.4804469273743 %\n",
      "Epoch:  400 Accuracy:  78.77094972067039 %\n",
      "Epoch:  600 Accuracy:  77.6536312849162 %\n",
      "Epoch:  800 Accuracy:  78.77094972067039 %\n",
      "Epoch:  1000 Accuracy:  78.77094972067039 %\n",
      "Epoch:  1200 Accuracy:  79.3296089385475 %\n",
      "Epoch:  1400 Accuracy:  81.00558659217877 %\n",
      "Epoch:  1600 Accuracy:  80.44692737430168 %\n",
      "Epoch:  1800 Accuracy:  81.00558659217877 %\n"
     ]
    }
   ],
   "source": [
    "import torch.optim as optim\n",
    "from sklearn.metrics import accuracy_score\n",
    "\n",
    "# ====== Construct Model ====== #\n",
    "# model = LinearModel()\n",
    "model = MLPModel() # Model을 생성해줍니다.\n",
    "print('{} parameters'.format(sum(p.numel() for p in model.parameters() if p.requires_grad))) \n",
    "\n",
    "\n",
    "# ===== Construct Optimizer ====== #\n",
    "lr = 0.005 # Learning Rate를 하나 정해줍니다. (원할한 학습을 위해 손을 많이 탑니다)\n",
    "optimizer = optim.SGD(model.parameters(), lr=lr) # Optimizer\n",
    "\n",
    "# 매 학습 단계에서의 epoch값과 그 때의 loss 값을 저장할 리스트를 만들어줍시다.\n",
    "list_epoch = [] \n",
    "list_train_loss = []\n",
    "list_val_loss = []\n",
    "list_acc = []\n",
    "list_acc_epoch = []\n",
    "\n",
    "epoch = 2000 # 학습 횟수(epoch)을 지정해줍시다.\n",
    "for i in range(epoch):\n",
    "    \n",
    "    # ====== Train ====== #\n",
    "    model.train() # model을 train 모드로 세팅합니다. 반대로 향후 모델을 평가할 때는 eval() 모드로 변경할 겁니다 (나중 실습에서 쓸 겁니다)\n",
    "    optimizer.zero_grad() # optimizer에 남아있을 수도 있는 잔여 그라디언트를 0으로 다 초기화해줍니다.\n",
    "    \n",
    "    input_x = torch.Tensor(X_train)\n",
    "    true_y = torch.Tensor(y_train).long() \n",
    "    pred_y = model(input_x)\n",
    "    \n",
    "    loss = criterion(pred_y, true_y)  # criterion(pred_y.squeeze(), true_y) \n",
    "    loss.backward() # backward()를 통해서 그라디언트를 구해줍니다.\n",
    "    optimizer.step() # step()을 통해서 그라디언틀르 바탕으로 파라미터를 업데이트 해줍니다. \n",
    "    list_epoch.append(i)\n",
    "    list_train_loss.append(loss.detach().numpy()) \n",
    "    \n",
    "    # ====== Validation ====== #\n",
    "    model.eval()\n",
    "    optimizer.zero_grad()\n",
    "    input_x = torch.Tensor(X_val)\n",
    "    true_y = torch.Tensor(y_val).long()\n",
    "    pred_y = model(input_x)   \n",
    "    loss = criterion(pred_y, true_y)\n",
    "    list_val_loss.append(loss.detach().numpy())    \n",
    "\n",
    "    # ====== Evaluation ======= #\n",
    "    if i % 200 == 0: # 200회의 학습마다 실제 데이터 분포와 모델이 예측한 분포를 그려봅니다. 200\n",
    "        \n",
    "        # ====== Calculate Accuracy ====== #\n",
    "        model.eval()\n",
    "        optimizer.zero_grad()\n",
    "        input_x = torch.Tensor(X_val)\n",
    "        true_y = torch.Tensor(y_val)\n",
    "        pred_y = model(input_x).detach().max(dim=1)[1].numpy() \n",
    "        acc = accuracy_score(true_y, pred_y) # sklearn 쪽 함수들은 true_y 가 먼저, pred_y가 나중에 인자로 들어가는 것에 주의합시다\n",
    "        list_acc.append(acc)\n",
    "        list_acc_epoch.append(i)\n",
    "        print('Epoch: ', i,  'Accuracy: ', acc*100, '%')\n"
   ]
  },
  {
   "cell_type": "code",
   "execution_count": 22,
   "id": "5bb33bac",
   "metadata": {
    "execution": {
     "iopub.execute_input": "2024-10-18T07:06:50.460616Z",
     "iopub.status.busy": "2024-10-18T07:06:50.459846Z",
     "iopub.status.idle": "2024-10-18T07:06:51.118106Z",
     "shell.execute_reply": "2024-10-18T07:06:51.116589Z"
    },
    "papermill": {
     "duration": 0.675712,
     "end_time": "2024-10-18T07:06:51.121253",
     "exception": false,
     "start_time": "2024-10-18T07:06:50.445541",
     "status": "completed"
    },
    "tags": []
   },
   "outputs": [
    {
     "data": {
      "image/png": "[encoded data removed]",
      "text/plain": [
       "<Figure size 1500x500 with 2 Axes>"
      ]
     },
     "metadata": {},
     "output_type": "display_data"
    }
   ],
   "source": [
    "import matplotlib.pyplot as plt\n",
    "fig = plt.figure(figsize=(15,5))\n",
    "\n",
    "# ====== Loss Fluctuation ====== #\n",
    "ax1 = fig.add_subplot(1, 2, 1)\n",
    "ax1.plot(list_epoch, list_train_loss, label='train_loss')\n",
    "ax1.plot(list_epoch, list_val_loss, '--', label='val_loss')\n",
    "ax1.set_xlabel('epoch')\n",
    "ax1.set_ylabel('loss')\n",
    "ax1.grid()\n",
    "ax1.legend()\n",
    "ax1.set_title('epoch vs loss')\n",
    "\n",
    "# ====== Metric Fluctuation ====== #\n",
    "ax2 = fig.add_subplot(1, 2, 2)\n",
    "ax2.plot(list_acc_epoch, list_acc, marker='x', label='Val Accuracy metric')\n",
    "ax2.set_xlabel('epoch')\n",
    "ax2.set_ylabel('Acc')\n",
    "ax2.grid()\n",
    "ax2.legend()\n",
    "ax2.set_title('epoch vs Accuracy')\n",
    "\n",
    "plt.show()"
   ]
  },
  {
   "cell_type": "code",
   "execution_count": 23,
   "id": "e6f2adc8",
   "metadata": {
    "execution": {
     "iopub.execute_input": "2024-10-18T07:06:51.151157Z",
     "iopub.status.busy": "2024-10-18T07:06:51.150606Z",
     "iopub.status.idle": "2024-10-18T07:06:51.173412Z",
     "shell.execute_reply": "2024-10-18T07:06:51.171864Z"
    },
    "papermill": {
     "duration": 0.041768,
     "end_time": "2024-10-18T07:06:51.176735",
     "exception": false,
     "start_time": "2024-10-18T07:06:51.134967",
     "status": "completed"
    },
    "tags": []
   },
   "outputs": [
    {
     "data": {
      "text/html": [
       "<div>\n",
       "<style scoped>\n",
       "    .dataframe tbody tr th:only-of-type {\n",
       "        vertical-align: middle;\n",
       "    }\n",
       "\n",
       "    .dataframe tbody tr th {\n",
       "        vertical-align: top;\n",
       "    }\n",
       "\n",
       "    .dataframe thead th {\n",
       "        text-align: right;\n",
       "    }\n",
       "</style>\n",
       "<table border=\"1\" class=\"dataframe\">\n",
       "  <thead>\n",
       "    <tr style=\"text-align: right;\">\n",
       "      <th></th>\n",
       "      <th>PassengerId</th>\n",
       "      <th>Survived</th>\n",
       "    </tr>\n",
       "  </thead>\n",
       "  <tbody>\n",
       "    <tr>\n",
       "      <th>0</th>\n",
       "      <td>892</td>\n",
       "      <td>0</td>\n",
       "    </tr>\n",
       "    <tr>\n",
       "      <th>1</th>\n",
       "      <td>893</td>\n",
       "      <td>0</td>\n",
       "    </tr>\n",
       "    <tr>\n",
       "      <th>2</th>\n",
       "      <td>894</td>\n",
       "      <td>0</td>\n",
       "    </tr>\n",
       "    <tr>\n",
       "      <th>3</th>\n",
       "      <td>895</td>\n",
       "      <td>0</td>\n",
       "    </tr>\n",
       "    <tr>\n",
       "      <th>4</th>\n",
       "      <td>896</td>\n",
       "      <td>1</td>\n",
       "    </tr>\n",
       "    <tr>\n",
       "      <th>...</th>\n",
       "      <td>...</td>\n",
       "      <td>...</td>\n",
       "    </tr>\n",
       "    <tr>\n",
       "      <th>413</th>\n",
       "      <td>1305</td>\n",
       "      <td>0</td>\n",
       "    </tr>\n",
       "    <tr>\n",
       "      <th>414</th>\n",
       "      <td>1306</td>\n",
       "      <td>1</td>\n",
       "    </tr>\n",
       "    <tr>\n",
       "      <th>415</th>\n",
       "      <td>1307</td>\n",
       "      <td>0</td>\n",
       "    </tr>\n",
       "    <tr>\n",
       "      <th>416</th>\n",
       "      <td>1308</td>\n",
       "      <td>0</td>\n",
       "    </tr>\n",
       "    <tr>\n",
       "      <th>417</th>\n",
       "      <td>1309</td>\n",
       "      <td>0</td>\n",
       "    </tr>\n",
       "  </tbody>\n",
       "</table>\n",
       "<p>418 rows × 2 columns</p>\n",
       "</div>"
      ],
      "text/plain": [
       "     PassengerId  Survived\n",
       "0            892         0\n",
       "1            893         0\n",
       "2            894         0\n",
       "3            895         0\n",
       "4            896         1\n",
       "..           ...       ...\n",
       "413         1305         0\n",
       "414         1306         1\n",
       "415         1307         0\n",
       "416         1308         0\n",
       "417         1309         0\n",
       "\n",
       "[418 rows x 2 columns]"
      ]
     },
     "execution_count": 23,
     "metadata": {},
     "output_type": "execute_result"
    }
   ],
   "source": [
    "# SUBMISSION\n",
    "model = model #logreg \n",
    "ids = test_simple['PassengerId']\n",
    "\n",
    "test_simple = test_simple.drop('PassengerId', axis=1)\n",
    "\n",
    "# sklearn model prediction\n",
    "# predictions = model.predict(test_simple.drop('PassengerId', axis=1)) sklearn\n",
    "\n",
    "# How to get class from model output?\n",
    "#1. torch.max(model_outputs.data, 1)\n",
    "#2. model_outputs.detach().max(dim=1)[1].numpy() \n",
    "input_x = torch.Tensor(np.array(test_simple))\n",
    "predictions = model(input_x).detach().max(dim=1)[1].numpy() \n",
    "\n",
    "output = pd.DataFrame({ 'PassengerId' : ids, 'Survived': predictions })\n",
    "output"
   ]
  },
  {
   "cell_type": "code",
   "execution_count": 24,
   "id": "3c0dc5b0",
   "metadata": {
    "execution": {
     "iopub.execute_input": "2024-10-18T07:06:51.206267Z",
     "iopub.status.busy": "2024-10-18T07:06:51.205777Z",
     "iopub.status.idle": "2024-10-18T07:06:51.216249Z",
     "shell.execute_reply": "2024-10-18T07:06:51.214849Z"
    },
    "papermill": {
     "duration": 0.028908,
     "end_time": "2024-10-18T07:06:51.219384",
     "exception": false,
     "start_time": "2024-10-18T07:06:51.190476",
     "status": "completed"
    },
    "tags": []
   },
   "outputs": [],
   "source": [
    "output.to_csv('submission.csv', index=False)"
   ]
  },
  {
   "cell_type": "code",
   "execution_count": null,
   "id": "c6120f4b",
   "metadata": {
    "papermill": {
     "duration": 0.013861,
     "end_time": "2024-10-18T07:06:51.247745",
     "exception": false,
     "start_time": "2024-10-18T07:06:51.233884",
     "status": "completed"
    },
    "tags": []
   },
   "outputs": [],
   "source": []
  }
 ],
 "metadata": {
  "kaggle": {
   "accelerator": "none",
   "dataSources": [
    {
     "databundleVersionId": 26502,
     "sourceId": 3136,
     "sourceType": "competition"
    }
   ],
   "dockerImageVersionId": 30786,
   "isGpuEnabled": false,
   "isInternetEnabled": false,
   "language": "python",
   "sourceType": "notebook"
  },
  "kernelspec": {
   "display_name": "Python 3",
   "language": "python",
   "name": "python3"
  },
  "language_info": {
   "codemirror_mode": {
    "name": "ipython",
    "version": 3
   },
   "file_extension": ".py",
   "mimetype": "text/x-python",
   "name": "python",
   "nbconvert_exporter": "python",
   "pygments_lexer": "ipython3",
   "version": "3.10.14"
  },
  "papermill": {
   "default_parameters": {},
   "duration": 19.397752,
   "end_time": "2024-10-18T07:06:52.790717",
   "environment_variables": {},
   "exception": null,
   "input_path": "__notebook__.ipynb",
   "output_path": "__notebook__.ipynb",
   "parameters": {},
   "start_time": "2024-10-18T07:06:33.392965",
   "version": "2.6.0"
  }
 },
 "nbformat": 4,
 "nbformat_minor": 5
}
