{
 "cells": [
  {
   "cell_type": "code",
   "execution_count": 1,
   "id": "2a27337b",
   "metadata": {
    "_cell_guid": "b1076dfc-b9ad-4769-8c92-a6c4dae69d19",
    "_uuid": "8f2839f25d086af736a60e9eeb907d3b93b6e0e5",
    "execution": {
     "iopub.execute_input": "2024-10-28T03:43:20.215917Z",
     "iopub.status.busy": "2024-10-28T03:43:20.215513Z",
     "iopub.status.idle": "2024-10-28T03:43:21.000557Z",
     "shell.execute_reply": "2024-10-28T03:43:20.999133Z"
    },
    "papermill": {
     "duration": 0.793674,
     "end_time": "2024-10-28T03:43:21.003178",
     "exception": false,
     "start_time": "2024-10-28T03:43:20.209504",
     "status": "completed"
    },
    "tags": []
   },
   "outputs": [],
   "source": [
    "# This Python 3 environment comes with many helpful analytics libraries installed\n",
    "# It is defined by the kaggle/python Docker image: https://github.com/kaggle/docker-python\n",
    "# For example, here's several helpful packages to load\n",
    "\n",
    "import numpy as np # linear algebra\n",
    "import pandas as pd # data processing, CSV file I/O (e.g. pd.read_csv)\n",
    "\n",
    "# Input data files are available in the read-only \"../input/\" directory\n",
    "# For example, running this (by clicking run or pressing Shift+Enter) will list all files under the input directory\n",
    "\n",
    "import os\n",
    "for dirname, _, filenames in os.walk('/kaggle/input'):\n",
    "    for filename in filenames:\n",
    "        print(os.path.join(dirname, filename))\n",
    "\n",
    "# You can write up to 20GB to the current directory (/kaggle/working/) that gets preserved as output when you create a version using \"Save & Run All\" \n",
    "# You can also write temporary files to /kaggle/temp/, but they won't be saved outside of the current session"
   ]
  },
  {
   "cell_type": "code",
   "execution_count": 2,
   "id": "784f51a7",
   "metadata": {
    "execution": {
     "iopub.execute_input": "2024-10-28T03:43:21.013118Z",
     "iopub.status.busy": "2024-10-28T03:43:21.012574Z",
     "iopub.status.idle": "2024-10-28T03:43:35.627287Z",
     "shell.execute_reply": "2024-10-28T03:43:35.626283Z"
    },
    "papermill": {
     "duration": 14.622517,
     "end_time": "2024-10-28T03:43:35.629948",
     "exception": false,
     "start_time": "2024-10-28T03:43:21.007431",
     "status": "completed"
    },
    "tags": []
   },
   "outputs": [],
   "source": [
    "from nltk.tokenize import word_tokenize\n",
    "from nltk.tokenize import WordPunctTokenizer\n",
    "from tensorflow.keras.preprocessing.text import text_to_word_sequence"
   ]
  },
  {
   "cell_type": "code",
   "execution_count": 3,
   "id": "a087e63d",
   "metadata": {
    "execution": {
     "iopub.execute_input": "2024-10-28T03:43:35.639944Z",
     "iopub.status.busy": "2024-10-28T03:43:35.639228Z",
     "iopub.status.idle": "2024-10-28T03:43:35.658171Z",
     "shell.execute_reply": "2024-10-28T03:43:35.656648Z"
    },
    "papermill": {
     "duration": 0.026938,
     "end_time": "2024-10-28T03:43:35.660835",
     "exception": false,
     "start_time": "2024-10-28T03:43:35.633897",
     "status": "completed"
    },
    "tags": []
   },
   "outputs": [
    {
     "name": "stdout",
     "output_type": "stream",
     "text": [
      "단어 토큰화1 : ['Do', \"n't\", 'be', 'fooled', 'by', 'the', 'dark', 'sounding', 'name', ',', 'Mr.', 'Jone', \"'s\", 'Orphanage', 'is', 'as', 'cheery', 'as', 'cheery', 'goes', 'for', 'a', 'pastry', 'shop', '.']\n"
     ]
    }
   ],
   "source": [
    "print('단어 토큰화1 :',word_tokenize(\"Don't be fooled by the dark sounding name, Mr. Jone's Orphanage is as cheery as cheery goes for a pastry shop.\"))"
   ]
  },
  {
   "cell_type": "code",
   "execution_count": 4,
   "id": "07f7b445",
   "metadata": {
    "execution": {
     "iopub.execute_input": "2024-10-28T03:43:35.670537Z",
     "iopub.status.busy": "2024-10-28T03:43:35.670124Z",
     "iopub.status.idle": "2024-10-28T03:43:35.676606Z",
     "shell.execute_reply": "2024-10-28T03:43:35.675481Z"
    },
    "papermill": {
     "duration": 0.013886,
     "end_time": "2024-10-28T03:43:35.678827",
     "exception": false,
     "start_time": "2024-10-28T03:43:35.664941",
     "status": "completed"
    },
    "tags": []
   },
   "outputs": [
    {
     "name": "stdout",
     "output_type": "stream",
     "text": [
      "단어 토큰화2 : ['Don', \"'\", 't', 'be', 'fooled', 'by', 'the', 'dark', 'sounding', 'name', ',', 'Mr', '.', 'Jone', \"'\", 's', 'Orphanage', 'is', 'as', 'cheery', 'as', 'cheery', 'goes', 'for', 'a', 'pastry', 'shop', '.']\n"
     ]
    }
   ],
   "source": [
    "print('단어 토큰화2 :',WordPunctTokenizer().tokenize(\"Don't be fooled by the dark sounding name, Mr. Jone's Orphanage is as cheery as cheery goes for a pastry shop.\"))"
   ]
  },
  {
   "cell_type": "code",
   "execution_count": 5,
   "id": "69ef09c6",
   "metadata": {
    "execution": {
     "iopub.execute_input": "2024-10-28T03:43:35.688206Z",
     "iopub.status.busy": "2024-10-28T03:43:35.687781Z",
     "iopub.status.idle": "2024-10-28T03:43:35.693522Z",
     "shell.execute_reply": "2024-10-28T03:43:35.692487Z"
    },
    "papermill": {
     "duration": 0.013028,
     "end_time": "2024-10-28T03:43:35.695792",
     "exception": false,
     "start_time": "2024-10-28T03:43:35.682764",
     "status": "completed"
    },
    "tags": []
   },
   "outputs": [
    {
     "name": "stdout",
     "output_type": "stream",
     "text": [
      "단어 토큰화3 : [\"don't\", 'be', 'fooled', 'by', 'the', 'dark', 'sounding', 'name', 'mr', \"jone's\", 'orphanage', 'is', 'as', 'cheery', 'as', 'cheery', 'goes', 'for', 'a', 'pastry', 'shop']\n"
     ]
    }
   ],
   "source": [
    "print('단어 토큰화3 :',text_to_word_sequence(\"Don't be fooled by the dark sounding name, Mr. Jone's Orphanage is as cheery as cheery goes for a pastry shop.\"))"
   ]
  },
  {
   "cell_type": "code",
   "execution_count": 6,
   "id": "15312066",
   "metadata": {
    "execution": {
     "iopub.execute_input": "2024-10-28T03:43:35.705580Z",
     "iopub.status.busy": "2024-10-28T03:43:35.705157Z",
     "iopub.status.idle": "2024-10-28T03:43:35.711446Z",
     "shell.execute_reply": "2024-10-28T03:43:35.710410Z"
    },
    "papermill": {
     "duration": 0.014194,
     "end_time": "2024-10-28T03:43:35.713948",
     "exception": false,
     "start_time": "2024-10-28T03:43:35.699754",
     "status": "completed"
    },
    "tags": []
   },
   "outputs": [
    {
     "name": "stdout",
     "output_type": "stream",
     "text": [
      "문장 토큰화1 : ['His barber kept his word.', 'But keeping such a huge secret to himself was driving him crazy.', 'Finally, the barber went up a mountain and almost to the edge of a cliff.', 'He dug a hole in the midst of some reeds.', 'He looked about, to make sure no one was near.']\n"
     ]
    }
   ],
   "source": [
    "from nltk.tokenize import sent_tokenize\n",
    "\n",
    "text = \"His barber kept his word. But keeping such a huge secret to himself was driving him crazy. Finally, the barber went up a mountain and almost to the edge of a cliff. He dug a hole in the midst of some reeds. He looked about, to make sure no one was near.\"\n",
    "print('문장 토큰화1 :',sent_tokenize(text))"
   ]
  },
  {
   "cell_type": "code",
   "execution_count": 7,
   "id": "42b65e84",
   "metadata": {
    "execution": {
     "iopub.execute_input": "2024-10-28T03:43:35.724276Z",
     "iopub.status.busy": "2024-10-28T03:43:35.723817Z",
     "iopub.status.idle": "2024-10-28T03:47:52.119263Z",
     "shell.execute_reply": "2024-10-28T03:47:52.117773Z"
    },
    "papermill": {
     "duration": 256.403614,
     "end_time": "2024-10-28T03:47:52.121763",
     "exception": false,
     "start_time": "2024-10-28T03:43:35.718149",
     "status": "completed"
    },
    "tags": []
   },
   "outputs": [
    {
     "name": "stdout",
     "output_type": "stream",
     "text": [
      "Collecting kss\r\n",
      "  Downloading kss-6.0.4.tar.gz (1.1 MB)\r\n",
      "\u001b[2K     \u001b[90m━━━━━━━━━━━━━━━━━━━━━━━━━━━━━━━━━━━━━━━━\u001b[0m \u001b[32m1.1/1.1 MB\u001b[0m \u001b[31m24.4 MB/s\u001b[0m eta \u001b[36m0:00:00\u001b[0m\r\n",
      "\u001b[?25h  Preparing metadata (setup.py) ... \u001b[?25l-\b \b\\\b \bdone\r\n",
      "\u001b[?25hCollecting emoji==1.2.0 (from kss)\r\n",
      "  Downloading emoji-1.2.0-py3-none-any.whl.metadata (4.3 kB)\r\n",
      "Collecting pecab (from kss)\r\n",
      "  Downloading pecab-1.0.8.tar.gz (26.4 MB)\r\n",
      "\u001b[2K     \u001b[90m━━━━━━━━━━━━━━━━━━━━━━━━━━━━━━━━━━━━━━━━\u001b[0m \u001b[32m26.4/26.4 MB\u001b[0m \u001b[31m59.8 MB/s\u001b[0m eta \u001b[36m0:00:00\u001b[0m\r\n",
      "\u001b[?25h  Preparing metadata (setup.py) ... \u001b[?25l-\b \bdone\r\n",
      "\u001b[?25hRequirement already satisfied: networkx in /opt/conda/lib/python3.10/site-packages (from kss) (3.3)\r\n",
      "Collecting jamo (from kss)\r\n",
      "  Downloading jamo-0.4.1-py3-none-any.whl.metadata (2.3 kB)\r\n",
      "Collecting hangul-jamo (from kss)\r\n",
      "  Downloading hangul_jamo-1.0.1-py3-none-any.whl.metadata (899 bytes)\r\n",
      "Collecting tossi (from kss)\r\n",
      "  Downloading tossi-0.3.1.tar.gz (11 kB)\r\n",
      "  Preparing metadata (setup.py) ... \u001b[?25l-\b \bdone\r\n",
      "\u001b[?25hCollecting distance (from kss)\r\n",
      "  Downloading Distance-0.1.3.tar.gz (180 kB)\r\n",
      "\u001b[2K     \u001b[90m━━━━━━━━━━━━━━━━━━━━━━━━━━━━━━━━━━━━━━\u001b[0m \u001b[32m180.3/180.3 kB\u001b[0m \u001b[31m10.6 MB/s\u001b[0m eta \u001b[36m0:00:00\u001b[0m\r\n",
      "\u001b[?25h  Preparing metadata (setup.py) ... \u001b[?25l-\b \bdone\r\n",
      "\u001b[?25hCollecting pyyaml==6.0 (from kss)\r\n",
      "  Downloading PyYAML-6.0-cp310-cp310-manylinux_2_5_x86_64.manylinux1_x86_64.manylinux_2_12_x86_64.manylinux2010_x86_64.whl.metadata (2.0 kB)\r\n",
      "Collecting unidecode (from kss)\r\n",
      "  Downloading Unidecode-1.3.8-py3-none-any.whl.metadata (13 kB)\r\n",
      "Collecting cmudict (from kss)\r\n",
      "  Downloading cmudict-1.0.31-py3-none-any.whl.metadata (3.5 kB)\r\n",
      "Collecting koparadigm (from kss)\r\n",
      "  Downloading koparadigm-0.10.0-py3-none-any.whl.metadata (2.9 kB)\r\n",
      "Collecting kollocate (from kss)\r\n",
      "  Downloading kollocate-0.0.2-py3-none-any.whl.metadata (1.8 kB)\r\n",
      "Collecting bs4 (from kss)\r\n",
      "  Downloading bs4-0.0.2-py2.py3-none-any.whl.metadata (411 bytes)\r\n",
      "Requirement already satisfied: numpy in /opt/conda/lib/python3.10/site-packages (from kss) (1.26.4)\r\n",
      "Requirement already satisfied: pytest in /opt/conda/lib/python3.10/site-packages (from kss) (8.3.3)\r\n",
      "Requirement already satisfied: scipy in /opt/conda/lib/python3.10/site-packages (from kss) (1.14.1)\r\n",
      "Requirement already satisfied: beautifulsoup4 in /opt/conda/lib/python3.10/site-packages (from bs4->kss) (4.12.3)\r\n",
      "Requirement already satisfied: importlib-metadata>=5 in /opt/conda/lib/python3.10/site-packages (from cmudict->kss) (7.0.0)\r\n",
      "Requirement already satisfied: importlib-resources>=5 in /opt/conda/lib/python3.10/site-packages (from cmudict->kss) (6.4.0)\r\n",
      "Collecting whoosh (from kollocate->kss)\r\n",
      "  Downloading Whoosh-2.7.4-py2.py3-none-any.whl.metadata (3.1 kB)\r\n",
      "Collecting xlrd==1.2.0 (from koparadigm->kss)\r\n",
      "  Downloading xlrd-1.2.0-py2.py3-none-any.whl.metadata (1.3 kB)\r\n",
      "Requirement already satisfied: pyarrow in /opt/conda/lib/python3.10/site-packages (from pecab->kss) (17.0.0)\r\n",
      "Requirement already satisfied: regex in /opt/conda/lib/python3.10/site-packages (from pecab->kss) (2024.5.15)\r\n",
      "Requirement already satisfied: iniconfig in /opt/conda/lib/python3.10/site-packages (from pytest->kss) (2.0.0)\r\n",
      "Requirement already satisfied: packaging in /opt/conda/lib/python3.10/site-packages (from pytest->kss) (21.3)\r\n",
      "Requirement already satisfied: pluggy<2,>=1.5 in /opt/conda/lib/python3.10/site-packages (from pytest->kss) (1.5.0)\r\n",
      "Requirement already satisfied: exceptiongroup>=1.0.0rc8 in /opt/conda/lib/python3.10/site-packages (from pytest->kss) (1.2.0)\r\n",
      "Requirement already satisfied: tomli>=1 in /opt/conda/lib/python3.10/site-packages (from pytest->kss) (2.0.1)\r\n",
      "Requirement already satisfied: bidict in /opt/conda/lib/python3.10/site-packages (from tossi->kss) (0.23.1)\r\n",
      "Requirement already satisfied: six in /opt/conda/lib/python3.10/site-packages (from tossi->kss) (1.16.0)\r\n",
      "Requirement already satisfied: zipp>=0.5 in /opt/conda/lib/python3.10/site-packages (from importlib-metadata>=5->cmudict->kss) (3.19.2)\r\n",
      "Requirement already satisfied: soupsieve>1.2 in /opt/conda/lib/python3.10/site-packages (from beautifulsoup4->bs4->kss) (2.5)\r\n",
      "Requirement already satisfied: pyparsing!=3.0.5,>=2.0.2 in /opt/conda/lib/python3.10/site-packages (from packaging->pytest->kss) (3.1.2)\r\n",
      "Downloading emoji-1.2.0-py3-none-any.whl (131 kB)\r\n",
      "\u001b[2K   \u001b[90m━━━━━━━━━━━━━━━━━━━━━━━━━━━━━━━━━━━━━━━━\u001b[0m \u001b[32m131.3/131.3 kB\u001b[0m \u001b[31m10.4 MB/s\u001b[0m eta \u001b[36m0:00:00\u001b[0m\r\n",
      "\u001b[?25hDownloading PyYAML-6.0-cp310-cp310-manylinux_2_5_x86_64.manylinux1_x86_64.manylinux_2_12_x86_64.manylinux2010_x86_64.whl (682 kB)\r\n",
      "\u001b[2K   \u001b[90m━━━━━━━━━━━━━━━━━━━━━━━━━━━━━━━━━━━━━━━━\u001b[0m \u001b[32m682.2/682.2 kB\u001b[0m \u001b[31m37.6 MB/s\u001b[0m eta \u001b[36m0:00:00\u001b[0m\r\n",
      "\u001b[?25hDownloading bs4-0.0.2-py2.py3-none-any.whl (1.2 kB)\r\n",
      "Downloading cmudict-1.0.31-py3-none-any.whl (939 kB)\r\n",
      "\u001b[2K   \u001b[90m━━━━━━━━━━━━━━━━━━━━━━━━━━━━━━━━━━━━━━━━\u001b[0m \u001b[32m939.4/939.4 kB\u001b[0m \u001b[31m44.8 MB/s\u001b[0m eta \u001b[36m0:00:00\u001b[0m\r\n",
      "\u001b[?25hDownloading hangul_jamo-1.0.1-py3-none-any.whl (4.4 kB)\r\n",
      "Downloading jamo-0.4.1-py3-none-any.whl (9.5 kB)\r\n",
      "Downloading kollocate-0.0.2-py3-none-any.whl (72.2 MB)\r\n",
      "\u001b[2K   \u001b[90m━━━━━━━━━━━━━━━━━━━━━━━━━━━━━━━━━━━━━━━━\u001b[0m \u001b[32m72.2/72.2 MB\u001b[0m \u001b[31m21.1 MB/s\u001b[0m eta \u001b[36m0:00:00\u001b[0m\r\n",
      "\u001b[?25hDownloading koparadigm-0.10.0-py3-none-any.whl (1.6 MB)\r\n",
      "\u001b[2K   \u001b[90m━━━━━━━━━━━━━━━━━━━━━━━━━━━━━━━━━━━━━━━━\u001b[0m \u001b[32m1.6/1.6 MB\u001b[0m \u001b[31m57.7 MB/s\u001b[0m eta \u001b[36m0:00:00\u001b[0m\r\n",
      "\u001b[?25hDownloading xlrd-1.2.0-py2.py3-none-any.whl (103 kB)\r\n",
      "\u001b[2K   \u001b[90m━━━━━━━━━━━━━━━━━━━━━━━━━━━━━━━━━━━━━━━━\u001b[0m \u001b[32m103.3/103.3 kB\u001b[0m \u001b[31m7.0 MB/s\u001b[0m eta \u001b[36m0:00:00\u001b[0m\r\n",
      "\u001b[?25hDownloading Unidecode-1.3.8-py3-none-any.whl (235 kB)\r\n",
      "\u001b[2K   \u001b[90m━━━━━━━━━━━━━━━━━━━━━━━━━━━━━━━━━━━━━━━━\u001b[0m \u001b[32m235.5/235.5 kB\u001b[0m \u001b[31m17.2 MB/s\u001b[0m eta \u001b[36m0:00:00\u001b[0m\r\n",
      "\u001b[?25hDownloading Whoosh-2.7.4-py2.py3-none-any.whl (468 kB)\r\n",
      "\u001b[2K   \u001b[90m━━━━━━━━━━━━━━━━━━━━━━━━━━━━━━━━━━━━━━━━\u001b[0m \u001b[32m468.8/468.8 kB\u001b[0m \u001b[31m28.7 MB/s\u001b[0m eta \u001b[36m0:00:00\u001b[0m\r\n",
      "\u001b[?25hBuilding wheels for collected packages: kss, distance, pecab, tossi\r\n",
      "  Building wheel for kss (setup.py) ... \u001b[?25l-\b \b\\\b \b|\b \b/\b \b-\b \b\\\b \b|\b \b/\b \b-\b \b\\\b \b|\b \b/\b \b-\b \b\\\b \b|\b \b/\b \b-\b \bdone\r\n",
      "\u001b[?25h  Created wheel for kss: filename=kss-6.0.4-cp310-cp310-linux_x86_64.whl size=1128892 sha256=c1b177d067786e2b484f185c3bd9ffc918f29363a3f0b5a3df519edd9b3ea83d\r\n",
      "  Stored in directory: /root/.cache/pip/wheels/dd/70/d5/c9308346829b1eb9e7267d74696919d2453aee6ce350f98b3b\r\n",
      "  Building wheel for distance (setup.py) ... \u001b[?25l-\b \b\\\b \bdone\r\n",
      "\u001b[?25h  Created wheel for distance: filename=Distance-0.1.3-py3-none-any.whl size=16258 sha256=c2db2004209e6ccd9f8b7d4d617fe3757b26b514c335d8302b323af3f2479a3f\r\n",
      "  Stored in directory: /root/.cache/pip/wheels/e8/bb/de/f71bf63559ea9a921059a5405806f7ff6ed612a9231c4a9309\r\n",
      "  Building wheel for pecab (setup.py) ... \u001b[?25l-\b \b\\\b \bdone\r\n",
      "\u001b[?25h  Created wheel for pecab: filename=pecab-1.0.8-py3-none-any.whl size=26646664 sha256=4160ee31baec9748571ba840fa4a5d9c3c56cec9ee0768c7509a5e6f6ac04a47\r\n",
      "  Stored in directory: /root/.cache/pip/wheels/5c/6f/b4/ab61b8863d7d8b1409def8ae31adcaa089fa91b8d022ec309d\r\n",
      "  Building wheel for tossi (setup.py) ... \u001b[?25l-\b \b\\\b \bdone\r\n",
      "\u001b[?25h  Created wheel for tossi: filename=tossi-0.3.1-py3-none-any.whl size=12130 sha256=c9f09014c94b80f9a5eadc89a978acea49f7a28df047c4d41d63c1647cbe8c2e\r\n",
      "  Stored in directory: /root/.cache/pip/wheels/a7/18/60/1094a6fe93c8063efcd3e6700d09328216682e495a3c51af9f\r\n",
      "Successfully built kss distance pecab tossi\r\n",
      "\u001b[33mWARNING: Error parsing requirements for pybind11: [Errno 2] No such file or directory: '/opt/conda/lib/python3.10/site-packages/pybind11-2.13.6.dist-info/METADATA'\u001b[0m\u001b[33m\r\n",
      "\u001b[0mInstalling collected packages: whoosh, jamo, hangul-jamo, emoji, distance, xlrd, unidecode, tossi, pyyaml, kollocate, koparadigm, cmudict, bs4, pecab, kss\r\n",
      "  Attempting uninstall: emoji\r\n",
      "    Found existing installation: emoji 2.13.2\r\n",
      "    Uninstalling emoji-2.13.2:\r\n",
      "      Successfully uninstalled emoji-2.13.2\r\n",
      "  Attempting uninstall: pyyaml\r\n",
      "    Found existing installation: PyYAML 6.0.2\r\n",
      "    Uninstalling PyYAML-6.0.2:\r\n",
      "      Successfully uninstalled PyYAML-6.0.2\r\n",
      "\u001b[31mERROR: pip's dependency resolver does not currently take into account all the packages that are installed. This behaviour is the source of the following dependency conflicts.\r\n",
      "jupyterlab 4.2.5 requires jupyter-lsp>=2.0.0, but you have jupyter-lsp 1.5.1 which is incompatible.\r\n",
      "jupyterlab-lsp 5.1.0 requires jupyter-lsp>=2.0.0, but you have jupyter-lsp 1.5.1 which is incompatible.\r\n",
      "kfp 2.5.0 requires google-cloud-storage<3,>=2.2.1, but you have google-cloud-storage 1.44.0 which is incompatible.\r\n",
      "ydata-profiling 4.10.0 requires scipy<1.14,>=1.4.1, but you have scipy 1.14.1 which is incompatible.\u001b[0m\u001b[31m\r\n",
      "\u001b[0mSuccessfully installed bs4-0.0.2 cmudict-1.0.31 distance-0.1.3 emoji-1.2.0 hangul-jamo-1.0.1 jamo-0.4.1 kollocate-0.0.2 koparadigm-0.10.0 kss-6.0.4 pecab-1.0.8 pyyaml-6.0 tossi-0.3.1 unidecode-1.3.8 whoosh-2.7.4 xlrd-1.2.0\r\n",
      "Note: you may need to restart the kernel to use updated packages.\n"
     ]
    }
   ],
   "source": [
    "pip install kss"
   ]
  },
  {
   "cell_type": "code",
   "execution_count": 8,
   "id": "f256dc27",
   "metadata": {
    "execution": {
     "iopub.execute_input": "2024-10-28T03:47:52.146145Z",
     "iopub.status.busy": "2024-10-28T03:47:52.144967Z",
     "iopub.status.idle": "2024-10-28T03:48:03.238408Z",
     "shell.execute_reply": "2024-10-28T03:48:03.237148Z"
    },
    "papermill": {
     "duration": 11.10831,
     "end_time": "2024-10-28T03:48:03.240939",
     "exception": false,
     "start_time": "2024-10-28T03:47:52.132629",
     "status": "completed"
    },
    "tags": []
   },
   "outputs": [
    {
     "name": "stdout",
     "output_type": "stream",
     "text": [
      "한국어 문장 토큰화 : ['딥 러닝 자연어 처리가 재미있기는 합니다.', '그런데 문제는 영어보다 한국어로 할 때 너무 어렵습니다.', '이제 해보면 알걸요?']\n"
     ]
    }
   ],
   "source": [
    "import kss\n",
    "\n",
    "text = '딥 러닝 자연어 처리가 재미있기는 합니다. 그런데 문제는 영어보다 한국어로 할 때 너무 어렵습니다. 이제 해보면 알걸요?'\n",
    "print('한국어 문장 토큰화 :',kss.split_sentences(text))"
   ]
  },
  {
   "cell_type": "code",
   "execution_count": 9,
   "id": "6da0029c",
   "metadata": {
    "execution": {
     "iopub.execute_input": "2024-10-28T03:48:03.264404Z",
     "iopub.status.busy": "2024-10-28T03:48:03.263635Z",
     "iopub.status.idle": "2024-10-28T03:48:03.401668Z",
     "shell.execute_reply": "2024-10-28T03:48:03.400254Z"
    },
    "papermill": {
     "duration": 0.152509,
     "end_time": "2024-10-28T03:48:03.404157",
     "exception": false,
     "start_time": "2024-10-28T03:48:03.251648",
     "status": "completed"
    },
    "tags": []
   },
   "outputs": [
    {
     "name": "stdout",
     "output_type": "stream",
     "text": [
      "단어 토큰화 : ['I', 'am', 'actively', 'looking', 'for', 'Ph.D.', 'students', '.', 'and', 'you', 'are', 'a', 'Ph.D.', 'student', '.']\n",
      "품사 태깅 : [('I', 'PRP'), ('am', 'VBP'), ('actively', 'RB'), ('looking', 'VBG'), ('for', 'IN'), ('Ph.D.', 'NNP'), ('students', 'NNS'), ('.', '.'), ('and', 'CC'), ('you', 'PRP'), ('are', 'VBP'), ('a', 'DT'), ('Ph.D.', 'NNP'), ('student', 'NN'), ('.', '.')]\n"
     ]
    }
   ],
   "source": [
    "from nltk.tokenize import word_tokenize\n",
    "from nltk.tag import pos_tag\n",
    "\n",
    "text = \"I am actively looking for Ph.D. students. and you are a Ph.D. student.\"\n",
    "tokenized_sentence = word_tokenize(text)\n",
    "\n",
    "print('단어 토큰화 :',tokenized_sentence)\n",
    "print('품사 태깅 :',pos_tag(tokenized_sentence))"
   ]
  },
  {
   "cell_type": "code",
   "execution_count": 10,
   "id": "ca2367dd",
   "metadata": {
    "execution": {
     "iopub.execute_input": "2024-10-28T03:48:03.427409Z",
     "iopub.status.busy": "2024-10-28T03:48:03.426978Z",
     "iopub.status.idle": "2024-10-28T03:48:15.601151Z",
     "shell.execute_reply": "2024-10-28T03:48:15.599908Z"
    },
    "papermill": {
     "duration": 12.188927,
     "end_time": "2024-10-28T03:48:15.603706",
     "exception": false,
     "start_time": "2024-10-28T03:48:03.414779",
     "status": "completed"
    },
    "tags": []
   },
   "outputs": [
    {
     "name": "stdout",
     "output_type": "stream",
     "text": [
      "Collecting konlpy\r\n",
      "  Downloading konlpy-0.6.0-py2.py3-none-any.whl.metadata (1.9 kB)\r\n",
      "Collecting JPype1>=0.7.0 (from konlpy)\r\n",
      "  Downloading JPype1-1.5.0-cp310-cp310-manylinux_2_17_x86_64.manylinux2014_x86_64.whl.metadata (4.9 kB)\r\n",
      "Requirement already satisfied: lxml>=4.1.0 in /opt/conda/lib/python3.10/site-packages (from konlpy) (5.3.0)\r\n",
      "Requirement already satisfied: numpy>=1.6 in /opt/conda/lib/python3.10/site-packages (from konlpy) (1.26.4)\r\n",
      "Requirement already satisfied: packaging in /opt/conda/lib/python3.10/site-packages (from JPype1>=0.7.0->konlpy) (21.3)\r\n",
      "Requirement already satisfied: pyparsing!=3.0.5,>=2.0.2 in /opt/conda/lib/python3.10/site-packages (from packaging->JPype1>=0.7.0->konlpy) (3.1.2)\r\n",
      "Downloading konlpy-0.6.0-py2.py3-none-any.whl (19.4 MB)\r\n",
      "\u001b[2K   \u001b[90m━━━━━━━━━━━━━━━━━━━━━━━━━━━━━━━━━━━━━━━━\u001b[0m \u001b[32m19.4/19.4 MB\u001b[0m \u001b[31m67.1 MB/s\u001b[0m eta \u001b[36m0:00:00\u001b[0m\r\n",
      "\u001b[?25hDownloading JPype1-1.5.0-cp310-cp310-manylinux_2_17_x86_64.manylinux2014_x86_64.whl (488 kB)\r\n",
      "\u001b[2K   \u001b[90m━━━━━━━━━━━━━━━━━━━━━━━━━━━━━━━━━━━━━━━━\u001b[0m \u001b[32m488.6/488.6 kB\u001b[0m \u001b[31m28.1 MB/s\u001b[0m eta \u001b[36m0:00:00\u001b[0m\r\n",
      "\u001b[?25hInstalling collected packages: JPype1, konlpy\r\n",
      "Successfully installed JPype1-1.5.0 konlpy-0.6.0\r\n"
     ]
    }
   ],
   "source": [
    "!pip install konlpy"
   ]
  },
  {
   "cell_type": "code",
   "execution_count": 11,
   "id": "0d3e0707",
   "metadata": {
    "execution": {
     "iopub.execute_input": "2024-10-28T03:48:15.629389Z",
     "iopub.status.busy": "2024-10-28T03:48:15.628899Z",
     "iopub.status.idle": "2024-10-28T03:48:24.553981Z",
     "shell.execute_reply": "2024-10-28T03:48:24.552763Z"
    },
    "papermill": {
     "duration": 8.9409,
     "end_time": "2024-10-28T03:48:24.556626",
     "exception": false,
     "start_time": "2024-10-28T03:48:15.615726",
     "status": "completed"
    },
    "tags": []
   },
   "outputs": [
    {
     "name": "stdout",
     "output_type": "stream",
     "text": [
      "OKT 형태소 분석 : ['열심히', '코딩', '한', '당신', ',', '연휴', '에는', '여행', '을', '가봐요']\n",
      "OKT 품사 태깅 : [('열심히', 'Adverb'), ('코딩', 'Noun'), ('한', 'Josa'), ('당신', 'Noun'), (',', 'Punctuation'), ('연휴', 'Noun'), ('에는', 'Josa'), ('여행', 'Noun'), ('을', 'Josa'), ('가봐요', 'Verb')]\n",
      "OKT 명사 추출 : ['코딩', '당신', '연휴', '여행']\n"
     ]
    }
   ],
   "source": [
    "from konlpy.tag import Okt\n",
    "from konlpy.tag import Kkma\n",
    "\n",
    "okt = Okt()\n",
    "kkma = Kkma()\n",
    "\n",
    "print('OKT 형태소 분석 :',okt.morphs(\"열심히 코딩한 당신, 연휴에는 여행을 가봐요\"))\n",
    "print('OKT 품사 태깅 :',okt.pos(\"열심히 코딩한 당신, 연휴에는 여행을 가봐요\"))\n",
    "print('OKT 명사 추출 :',okt.nouns(\"열심히 코딩한 당신, 연휴에는 여행을 가봐요\")) "
   ]
  },
  {
   "cell_type": "code",
   "execution_count": 12,
   "id": "ffb9eb8e",
   "metadata": {
    "execution": {
     "iopub.execute_input": "2024-10-28T03:48:24.582558Z",
     "iopub.status.busy": "2024-10-28T03:48:24.581775Z",
     "iopub.status.idle": "2024-10-28T03:48:34.185522Z",
     "shell.execute_reply": "2024-10-28T03:48:34.184327Z"
    },
    "papermill": {
     "duration": 9.61979,
     "end_time": "2024-10-28T03:48:34.188890",
     "exception": false,
     "start_time": "2024-10-28T03:48:24.569100",
     "status": "completed"
    },
    "tags": []
   },
   "outputs": [
    {
     "name": "stdout",
     "output_type": "stream",
     "text": [
      "꼬꼬마 형태소 분석 : ['열심히', '코딩', '하', 'ㄴ', '당신', ',', '연휴', '에', '는', '여행', '을', '가보', '아요']\n",
      "꼬꼬마 품사 태깅 : [('열심히', 'MAG'), ('코딩', 'NNG'), ('하', 'XSV'), ('ㄴ', 'ETD'), ('당신', 'NP'), (',', 'SP'), ('연휴', 'NNG'), ('에', 'JKM'), ('는', 'JX'), ('여행', 'NNG'), ('을', 'JKO'), ('가보', 'VV'), ('아요', 'EFN')]\n",
      "꼬꼬마 명사 추출 : ['코딩', '당신', '연휴', '여행']\n"
     ]
    }
   ],
   "source": [
    "print('꼬꼬마 형태소 분석 :',kkma.morphs(\"열심히 코딩한 당신, 연휴에는 여행을 가봐요\"))\n",
    "print('꼬꼬마 품사 태깅 :',kkma.pos(\"열심히 코딩한 당신, 연휴에는 여행을 가봐요\"))\n",
    "print('꼬꼬마 명사 추출 :',kkma.nouns(\"열심히 코딩한 당신, 연휴에는 여행을 가봐요\"))  "
   ]
  },
  {
   "cell_type": "code",
   "execution_count": null,
   "id": "2a091847",
   "metadata": {
    "papermill": {
     "duration": 0.011304,
     "end_time": "2024-10-28T03:48:34.216987",
     "exception": false,
     "start_time": "2024-10-28T03:48:34.205683",
     "status": "completed"
    },
    "tags": []
   },
   "outputs": [],
   "source": []
  }
 ],
 "metadata": {
  "kaggle": {
   "accelerator": "none",
   "dataSources": [],
   "dockerImageVersionId": 30786,
   "isGpuEnabled": false,
   "isInternetEnabled": true,
   "language": "python",
   "sourceType": "notebook"
  },
  "kernelspec": {
   "display_name": "Python 3",
   "language": "python",
   "name": "python3"
  },
  "language_info": {
   "codemirror_mode": {
    "name": "ipython",
    "version": 3
   },
   "file_extension": ".py",
   "mimetype": "text/x-python",
   "name": "python",
   "nbconvert_exporter": "python",
   "pygments_lexer": "ipython3",
   "version": "3.10.14"
  },
  "papermill": {
   "default_parameters": {},
   "duration": 319.581058,
   "end_time": "2024-10-28T03:48:37.118549",
   "environment_variables": {},
   "exception": null,
   "input_path": "__notebook__.ipynb",
   "output_path": "__notebook__.ipynb",
   "parameters": {},
   "start_time": "2024-10-28T03:43:17.537491",
   "version": "2.6.0"
  }
 },
 "nbformat": 4,
 "nbformat_minor": 5
}
